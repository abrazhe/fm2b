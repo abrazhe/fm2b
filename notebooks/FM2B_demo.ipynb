{
 "cells": [
  {
   "cell_type": "markdown",
   "id": "49e9aeae",
   "metadata": {},
   "source": [
    "# Fast marching to branching morphologies: Supplementary code\n",
    "This is the accompanying code for the preprint at biorxiv: https://biorxiv.org/cgi/content/short/2024.11.16.623917v1\n",
    "And manuscript submitted to Royal Society Interface journal"
   ]
  },
  {
   "cell_type": "code",
   "execution_count": null,
   "id": "72000f79-f182-4de5-a9b2-6133668d5435",
   "metadata": {},
   "outputs": [],
   "source": [
    "RunningInCOLAB = 'google.colab' in str(get_ipython())\n",
    "RunningInCOLAB"
   ]
  },
  {
   "cell_type": "code",
   "execution_count": null,
   "id": "bca7b839-a136-48f8-8997-01005896baf4",
   "metadata": {},
   "outputs": [],
   "source": [
    "if RunningInCOLAB:\n",
    "  #! pip install scikit-fmm\n",
    "  ! pip install git+https://github.com/scikit-fmm/scikit-fmm.git\n",
    "  ! pip install scikit-image"
   ]
  },
  {
   "cell_type": "code",
   "execution_count": null,
   "id": "a24e2f78-baef-4715-99f6-92f02663bdea",
   "metadata": {},
   "outputs": [],
   "source": []
  },
  {
   "cell_type": "code",
   "execution_count": null,
   "id": "75e2203b",
   "metadata": {},
   "outputs": [],
   "source": [
    "import os\n",
    "import sys"
   ]
  },
  {
   "cell_type": "code",
   "execution_count": null,
   "id": "7ea8d177",
   "metadata": {},
   "outputs": [],
   "source": [
    "%matplotlib inline"
   ]
  },
  {
   "cell_type": "code",
   "execution_count": null,
   "id": "b756f377",
   "metadata": {},
   "outputs": [],
   "source": [
    "import matplotlib as mpl\n",
    "from matplotlib import pyplot as plt"
   ]
  },
  {
   "cell_type": "code",
   "execution_count": null,
   "id": "457a2421",
   "metadata": {},
   "outputs": [],
   "source": [
    "#import cv2"
   ]
  },
  {
   "cell_type": "code",
   "execution_count": null,
   "id": "ca715fef",
   "metadata": {},
   "outputs": [],
   "source": [
    "from functools import reduce\n",
    "import operator as op"
   ]
  },
  {
   "cell_type": "code",
   "execution_count": null,
   "id": "3405343b",
   "metadata": {},
   "outputs": [],
   "source": [
    "from importlib import reload"
   ]
  },
  {
   "cell_type": "code",
   "execution_count": null,
   "id": "d1bfb1aa",
   "metadata": {},
   "outputs": [],
   "source": [
    "import numpy as np\n",
    "import scipy as sp\n",
    "from scipy import ndimage as ndi\n",
    "\n",
    "from pathlib import Path"
   ]
  },
  {
   "cell_type": "code",
   "execution_count": null,
   "id": "eb2e15ab-0da5-48ac-9ed5-196a779ce1e9",
   "metadata": {},
   "outputs": [],
   "source": [
    "from skimage.filters import sato"
   ]
  },
  {
   "cell_type": "code",
   "execution_count": null,
   "id": "4f6de23a",
   "metadata": {},
   "outputs": [],
   "source": []
  },
  {
   "cell_type": "code",
   "execution_count": null,
   "id": "d8466367",
   "metadata": {},
   "outputs": [],
   "source": [
    "import powerlaw"
   ]
  },
  {
   "cell_type": "code",
   "execution_count": null,
   "id": "6e8d21d5",
   "metadata": {},
   "outputs": [],
   "source": [
    "from tqdm.auto import tqdm, trange"
   ]
  },
  {
   "cell_type": "code",
   "execution_count": null,
   "id": "1aeb3458",
   "metadata": {},
   "outputs": [],
   "source": [
    "import pickle"
   ]
  },
  {
   "cell_type": "code",
   "execution_count": null,
   "id": "4ea8c7e2",
   "metadata": {},
   "outputs": [],
   "source": [
    "import seaborn as sns"
   ]
  },
  {
   "cell_type": "code",
   "execution_count": null,
   "id": "1479da32",
   "metadata": {},
   "outputs": [],
   "source": []
  },
  {
   "cell_type": "code",
   "execution_count": null,
   "id": "79bc18e5",
   "metadata": {},
   "outputs": [],
   "source": []
  },
  {
   "cell_type": "code",
   "execution_count": null,
   "id": "145ab5f3-c33d-4dd9-8b18-17b3f9a4011f",
   "metadata": {},
   "outputs": [],
   "source": [
    "from numba import jit"
   ]
  },
  {
   "cell_type": "code",
   "execution_count": null,
   "id": "4dd5ba47",
   "metadata": {},
   "outputs": [],
   "source": []
  },
  {
   "cell_type": "code",
   "execution_count": null,
   "id": "20c2efd4",
   "metadata": {},
   "outputs": [],
   "source": [
    "if not Path('figures').exists():\n",
    "    Path('figures').mkdir()"
   ]
  },
  {
   "cell_type": "code",
   "execution_count": null,
   "id": "7ae97d36",
   "metadata": {},
   "outputs": [],
   "source": [
    "import skfmm"
   ]
  },
  {
   "cell_type": "code",
   "execution_count": null,
   "id": "f852819b-9118-49a6-b06a-3473710d12ee",
   "metadata": {},
   "outputs": [],
   "source": [
    "sys.path.append('../')"
   ]
  },
  {
   "cell_type": "code",
   "execution_count": null,
   "id": "766293eb-7c21-44fa-95ca-862e184259de",
   "metadata": {},
   "outputs": [],
   "source": [
    "import morpho_trees as mt\n",
    "import speed_fields as spf\n",
    "import visualization as vis\n",
    "\n",
    "import balanced_mst as bmst\n",
    "import fm2b"
   ]
  },
  {
   "cell_type": "code",
   "execution_count": null,
   "id": "5824d60f-2876-4c24-920f-bcf643786563",
   "metadata": {},
   "outputs": [],
   "source": [
    "def eu_dist(p1, p2):\n",
    "    return np.sqrt(np.sum([(x - y)**2 for x, y in zip(p1, p2)]))\n",
    "\n",
    "def cartesian2polar(x,y):\n",
    "    r = np.sqrt(x**2 + y**2)\n",
    "    theta = np.arctan2(x,y)\n",
    "    return r,theta\n",
    "\n",
    "def polar2cartesian(r,theta):\n",
    "    x = r*np.cos(theta)\n",
    "    y = r*np.sin(theta)\n",
    "    return x,y\n",
    "\n",
    "\n",
    "def gen_random_polar_points(Npoints, rmin=0.1, rmax=1):\n",
    "    radii = np.random.uniform(rmin,rmax, size=Npoints)\n",
    "    theta = np.random.uniform(0, 2*np.pi, size=Npoints)\n",
    "    return np.array([radii, theta]).T"
   ]
  },
  {
   "cell_type": "code",
   "execution_count": null,
   "id": "035d01f6-c485-4d17-82fd-45305bcdbf8d",
   "metadata": {},
   "outputs": [],
   "source": [
    "def largest_region(mask):\n",
    "    labels, nlab = ndi.label(mask)\n",
    "    if nlab > 0:\n",
    "        objs = ndi.find_objects(labels)\n",
    "        sizes = [np.sum(labels[o]==k+1) for k,o in enumerate(objs)]\n",
    "        k = np.argmax(sizes)\n",
    "        return labels==k+1\n",
    "    else:\n",
    "        return mask"
   ]
  },
  {
   "cell_type": "code",
   "execution_count": null,
   "id": "f7c5e5d0-c431-4c39-a841-c2128e19942f",
   "metadata": {},
   "outputs": [],
   "source": [
    "def flat_indices(shape):\n",
    "    idx = np.indices(shape)\n",
    "    return np.hstack([np.ravel(x_)[:,None] for x_ in idx])"
   ]
  },
  {
   "cell_type": "code",
   "execution_count": null,
   "id": "eb8daceb",
   "metadata": {},
   "outputs": [],
   "source": [
    "def gauss2d(xmu=0, ymu=0, xsigma=10, ysigma=10):\n",
    "    xsigma, ysigma = list(map(float, [xsigma, ysigma]))\n",
    "    return lambda x,y: np.exp(-(x-xmu)**2/(2*xsigma**2) - (y-ymu)**2/(2*ysigma**2))\n",
    "\n",
    "def gauss_blob(loc, sigma, shape):\n",
    "    xx,yy = np.mgrid[:shape[0],:shape[1]]\n",
    "    fn = gauss2d(xmu=loc[0],ymu=loc[1], xsigma=sigma,ysigma=sigma)\n",
    "    return fn(xx,yy)"
   ]
  },
  {
   "cell_type": "code",
   "execution_count": null,
   "id": "c011447a",
   "metadata": {},
   "outputs": [],
   "source": [
    "def sample_points(prob_map, size=500):\n",
    "    locs = np.array(np.where(prob_map>0)).T\n",
    "    idx = np.random.choice(len(locs), size=size, replace=False, p=prob_map[prob_map>0])\n",
    "    return locs[idx]"
   ]
  },
  {
   "cell_type": "code",
   "execution_count": null,
   "id": "1cc8e065",
   "metadata": {},
   "outputs": [],
   "source": [
    "def percentile_rescale(arr, plow=1, phigh=99):\n",
    "    vmin,vmax = np.percentile(arr, (plow, phigh))\n",
    "    if vmin == vmax:\n",
    "        return np.zeros_like(arr)\n",
    "    else:\n",
    "        return np.clip((arr-vmin)/(vmax-vmin),0,1)\n",
    "\n",
    "\n",
    "def clip_outliers(m, plow=0.5, phigh=99.5):\n",
    "    px = np.percentile(m, (plow, phigh))\n",
    "    return np.clip(m, *px)\n",
    "\n",
    "\n",
    "@jit(nopython=True)\n",
    "def local_jitter(v, sigma=5):\n",
    "    L = len(v)\n",
    "    vx = np.copy(v)\n",
    "    Wvx = np.zeros(L)\n",
    "    for i in range(L):\n",
    "        j = i + int(np.round(np.random.randn() * sigma))\n",
    "        j = max(0, min(j, L - 1))\n",
    "        vx[i] = v[j]\n",
    "        vx[j] = v[i]\n",
    "    return vx"
   ]
  },
  {
   "cell_type": "code",
   "execution_count": null,
   "id": "131f5a4e-a384-4829-8c8a-e3bbb68b5219",
   "metadata": {},
   "outputs": [],
   "source": [
    "%matplotlib inline"
   ]
  },
  {
   "cell_type": "code",
   "execution_count": null,
   "id": "f1ed8524-19ed-450e-a2ba-07a3dddf3afc",
   "metadata": {},
   "outputs": [],
   "source": [
    "plt.rc('figure', dpi=150)"
   ]
  },
  {
   "cell_type": "markdown",
   "id": "2e0c5a0a-67a2-4233-a820-f2ace1fdbbad",
   "metadata": {},
   "source": [
    "## Simple example fields and paths in them"
   ]
  },
  {
   "cell_type": "code",
   "execution_count": null,
   "id": "c7ecf3e8-c155-4e3b-a2ce-52234fda4923",
   "metadata": {},
   "outputs": [],
   "source": [
    "sigmas = (1.5, 3, 6, 12)"
   ]
  },
  {
   "cell_type": "code",
   "execution_count": null,
   "id": "5b089d91-50bb-49e2-b9fe-27bd59d17393",
   "metadata": {},
   "outputs": [],
   "source": [
    "field_constant = 0.5*np.ones((256,512))\n",
    "\n",
    "field_gradient = field_constant*np.linspace(0,1,len(field_constant))[:,None]**0.5\n",
    "field_random = np.sum([s**2*ndi.gaussian_filter(np.random.randn(256,512),s) \n",
    "                       for s in sigmas + (24,)],0)\n",
    "field_random = 0.1 + percentile_rescale(field_random,0,100)\n",
    "field_obstacle = field_constant.copy()\n",
    "field_obstacle[50:,126:136] = 0"
   ]
  },
  {
   "cell_type": "code",
   "execution_count": null,
   "id": "78e95707-f16a-47a1-afc3-1d562ae2bc31",
   "metadata": {},
   "outputs": [],
   "source": [
    "root =  (128, 500)\n",
    "start =  (128, 12)"
   ]
  },
  {
   "cell_type": "markdown",
   "id": "771e3017-fa4b-4758-b06b-d9fa32b51067",
   "metadata": {},
   "source": [
    "### The fields"
   ]
  },
  {
   "cell_type": "code",
   "execution_count": null,
   "id": "bab24451-685f-433b-b531-9b9a1d4f8381",
   "metadata": {},
   "outputs": [],
   "source": [
    "example_fields = [field_constant, field_gradient, field_obstacle,field_random]"
   ]
  },
  {
   "cell_type": "code",
   "execution_count": null,
   "id": "411a34ad-f827-48d3-9b97-bd3a70b06c95",
   "metadata": {},
   "outputs": [],
   "source": [
    "aspect = example_fields[0].shape[1]/example_fields[0].shape[0]\n",
    "fig, axs = plt.subplots(2,2, figsize=(3*aspect,3), gridspec_kw=dict(hspace=0.05,wspace=0.05))\n",
    "for field, ax in zip(example_fields, np.ravel(axs)):\n",
    "    ax.imshow(field, vmin=0,vmax=1, cmap='gray')\n",
    "    ax.plot(*root[::-1], 'r+', ms=10)\n",
    "    ax.axis('off')"
   ]
  },
  {
   "cell_type": "code",
   "execution_count": null,
   "id": "bf5b5c5d-7c22-4a34-bcc3-b4edb5728615",
   "metadata": {},
   "outputs": [],
   "source": [
    "aspect"
   ]
  },
  {
   "cell_type": "markdown",
   "id": "073c787a-1430-4b07-aa78-a9a74843bb28",
   "metadata": {},
   "source": [
    "### Travel-times"
   ]
  },
  {
   "cell_type": "code",
   "execution_count": null,
   "id": "ae0262f5-2ab8-453d-a280-41cb0361f75c",
   "metadata": {},
   "outputs": [],
   "source": [
    "phi0 = np.ones(example_fields[0].shape,dtype=bool)\n",
    "phi0[root] = False"
   ]
  },
  {
   "cell_type": "code",
   "execution_count": null,
   "id": "21cd2c68-7214-44b1-beb4-80e0d9e49ab7",
   "metadata": {},
   "outputs": [],
   "source": [
    "ttms = [skfmm.travel_time(phi0,speed=field) for field in example_fields]"
   ]
  },
  {
   "cell_type": "code",
   "execution_count": null,
   "id": "5a6601c4-5518-43a0-af10-0e3457b81573",
   "metadata": {},
   "outputs": [],
   "source": [
    "fig, axs = plt.subplots(2,2, figsize=(3*aspect,3), gridspec_kw=dict(hspace=0.05,wspace=0.05))\n",
    "for ttm, ax in zip(ttms, np.ravel(axs)):\n",
    "    ax.imshow(percentile_rescale(ttm,1,99), cmap='rainbow_r')\n",
    "    ax.plot(*root[::-1], 'k+', ms=10)\n",
    "    ax.axis('off')"
   ]
  },
  {
   "cell_type": "markdown",
   "id": "681746cd-9f3c-4f24-b345-9d8a789e4e81",
   "metadata": {},
   "source": [
    "### GD Paths"
   ]
  },
  {
   "cell_type": "code",
   "execution_count": null,
   "id": "76d14914-b608-4e76-a34d-92465ce4ae0d",
   "metadata": {},
   "outputs": [],
   "source": [
    "trees = [fm2b.build_tree(ttm, [start],tm_mask=~phi0)[0] for ttm in ttms]"
   ]
  },
  {
   "cell_type": "code",
   "execution_count": null,
   "id": "efb3f91c-6dff-4edb-a939-86590ff0bbbd",
   "metadata": {},
   "outputs": [],
   "source": [
    "paths = [tree.tips[0].apath_to_root() for tree in trees]"
   ]
  },
  {
   "cell_type": "code",
   "execution_count": null,
   "id": "831a1025-9abd-4e12-9130-fa8d4f31dd0a",
   "metadata": {},
   "outputs": [],
   "source": [
    "fig, axs = plt.subplots(2,2, figsize=(3*aspect,3), gridspec_kw=dict(hspace=0.05,wspace=0.05))\n",
    "for field, path, ax in zip(example_fields, paths, np.ravel(axs)):\n",
    "    ax.imshow(field, vmin=0,vmax=1, cmap='gray')\n",
    "    ax.plot(path[:,1],path[:,0], 'm')\n",
    "    ax.plot(*root[::-1], 'r+', ms=10)\n",
    "    ax.plot(*start[::-1], 'x', color='lime', ms=10)\n",
    "    ax.axis('off')"
   ]
  },
  {
   "cell_type": "code",
   "execution_count": null,
   "id": "b12e866a-f704-44de-9178-647badf4516f",
   "metadata": {},
   "outputs": [],
   "source": [
    "seeds_extra = [(x, 12) for x in range(26,230,20)]"
   ]
  },
  {
   "cell_type": "code",
   "execution_count": null,
   "id": "cb70c984-028c-4485-926a-c7949c065b50",
   "metadata": {},
   "outputs": [],
   "source": [
    "trees_extra = [fm2b.build_tree(ttm, seeds_extra,tm_mask=~phi0)[0]\n",
    "               for ttm in ttms]"
   ]
  },
  {
   "cell_type": "code",
   "execution_count": null,
   "id": "63d9461f-ca66-44ed-b9bd-ea6e3e4f83b6",
   "metadata": {},
   "outputs": [],
   "source": [
    "fig, axs = plt.subplots(2,2, figsize=(3*aspect,3), gridspec_kw=dict(hspace=0.05,wspace=0.05))\n",
    "for field, tree, ax in zip(example_fields, trees_extra, np.ravel(axs)):\n",
    "    ax.imshow(field, vmin=0,vmax=1, cmap='gray')\n",
    "    vis.plot_tree(tree, random_colors=False, \n",
    "                   show_root=False, zorder=2,ax=ax)\n",
    "    for start in seeds_extra:\n",
    "        ax.plot(*start[::-1], 'x', color='lime', ms=5)\n",
    "    ax.plot(*root[::-1], 'r+', ms=10)\n",
    "    ax.axis('off')"
   ]
  },
  {
   "cell_type": "markdown",
   "id": "e70eb8bc",
   "metadata": {},
   "source": [
    "## Merging GD paths in stochastic FMM-based travel-time maps"
   ]
  },
  {
   "cell_type": "code",
   "execution_count": null,
   "id": "69e6b61d",
   "metadata": {},
   "outputs": [],
   "source": [
    "Npx = 512\n",
    "X, Y = np.mgrid[:512,:512]\n",
    "X.shape"
   ]
  },
  {
   "cell_type": "code",
   "execution_count": null,
   "id": "b28907a7",
   "metadata": {},
   "outputs": [],
   "source": [
    "field_shape = (Npx,Npx)"
   ]
  },
  {
   "cell_type": "code",
   "execution_count": null,
   "id": "788d540e",
   "metadata": {},
   "outputs": [],
   "source": [
    "speed = spf.multiscale_Sato(field_shape)\n",
    "phi0 = spf.central_phi0(field_shape)\n",
    "ttx = skfmm.travel_time(phi0, speed=speed)\n",
    "vis.show_tt_map(ttx, with_boundary=True)"
   ]
  },
  {
   "cell_type": "code",
   "execution_count": null,
   "id": "a341c199",
   "metadata": {},
   "outputs": [],
   "source": [
    "init_pts_polar = gen_random_polar_points(20, 50, 225)\n",
    "init_pts = np.array([polar2cartesian(*p) for p in init_pts_polar]) + (255,255)"
   ]
  },
  {
   "cell_type": "code",
   "execution_count": null,
   "id": "2243d3cd-2381-47d4-bdb4-6f5521baafb9",
   "metadata": {},
   "outputs": [],
   "source": [
    "init_pts_more = np.array([polar2cartesian(*p) \n",
    "                          for p in gen_random_polar_points(50, 50, 225)]) + (255,255)"
   ]
  },
  {
   "cell_type": "code",
   "execution_count": null,
   "id": "169371a8",
   "metadata": {},
   "outputs": [],
   "source": [
    "vis.show_tt_map(ttx, with_boundary=False)\n",
    "plt.plot(init_pts[:,0], init_pts[:,1], 'r.')"
   ]
  },
  {
   "cell_type": "code",
   "execution_count": null,
   "id": "22564d4d",
   "metadata": {},
   "outputs": [],
   "source": [
    "tree,fails = fm2b.build_tree(ttx, init_pts, tm_mask =~phi0)"
   ]
  },
  {
   "cell_type": "code",
   "execution_count": null,
   "id": "c0bcf22e",
   "metadata": {},
   "outputs": [],
   "source": [
    "len(tree),len(fails)"
   ]
  },
  {
   "cell_type": "code",
   "execution_count": null,
   "id": "60d6e484",
   "metadata": {},
   "outputs": [],
   "source": [
    "fig = plt.figure(figsize=(4,4))\n",
    "vis.plot_tree(tree, random_colors=False, ax=plt.gca())"
   ]
  },
  {
   "cell_type": "markdown",
   "id": "8548314a",
   "metadata": {},
   "source": [
    "## Effect of speed field"
   ]
  },
  {
   "cell_type": "code",
   "execution_count": null,
   "id": "edbe05f2",
   "metadata": {},
   "outputs": [],
   "source": [
    "# filaments_ms = percentile_rescale(sum(sato(np.random.randn(*field_shape), \n",
    "#                                            [s],black_ridges=False)\n",
    "#                                       for s in (1.5, 3, 6, 12)))\n",
    "\n",
    "satos = [sato(np.random.randn(*field_shape),[s],black_ridges=False)  \n",
    "         for s in (1.5, 3, 6, 12)]\n",
    "\n",
    "\n",
    "filaments_ms = np.mean([percentile_rescale(sc,0.1,99.9) for sc in satos],0)\n",
    "#filaments_ms = np.mean([sc for sc in satos],0)\n",
    "\n",
    "filaments_ms = percentile_rescale(filaments_ms,0,100)\n",
    "\n",
    "filaments_hf = percentile_rescale(sato(np.random.randn(*field_shape), [1.5]))\n",
    "filaments_lf = percentile_rescale(sato(np.random.randn(*field_shape), [6]))"
   ]
  },
  {
   "cell_type": "code",
   "execution_count": null,
   "id": "2a9b186e-dbbd-4a54-b848-3b613987fbdf",
   "metadata": {},
   "outputs": [],
   "source": [
    "plt.imshow(filaments_ms)"
   ]
  },
  {
   "cell_type": "code",
   "execution_count": null,
   "id": "9c439b32",
   "metadata": {},
   "outputs": [],
   "source": [
    "gauss_ms = percentile_rescale(sum(s**2*ndi.gaussian_filter(np.random.randn(*field_shape), s)\n",
    "                                    for s in (1.5, 3, 6, 12)), 0, 100)\n",
    "gauss_hf = percentile_rescale(ndi.gaussian_filter(np.random.randn(*field_shape), 1.5), 0, 100)\n",
    "gauss_lf = percentile_rescale(ndi.gaussian_filter(np.random.randn(*field_shape), 6), 0, 100)"
   ]
  },
  {
   "cell_type": "code",
   "execution_count": null,
   "id": "6807e578",
   "metadata": {},
   "outputs": [],
   "source": [
    "uniform_field = np.ones(field_shape)*0.85\n",
    "uniform_field[0,0] = 0"
   ]
  },
  {
   "cell_type": "code",
   "execution_count": null,
   "id": "a0a94368",
   "metadata": {},
   "outputs": [],
   "source": [
    "fields = [\n",
    "    uniform_field,\n",
    "    gauss_hf,\n",
    "    #gauss_lf,\n",
    "    gauss_ms,\n",
    "    filaments_hf*1.5,\n",
    "    #filaments_lf,\n",
    "    filaments_ms*1.5\n",
    "]"
   ]
  },
  {
   "cell_type": "code",
   "execution_count": null,
   "id": "19054f8d",
   "metadata": {},
   "outputs": [],
   "source": [
    "# this is to ensure that the central point isn't isolated\n",
    "for field in fields:\n",
    "    field[~phi0] = np.median(field)"
   ]
  },
  {
   "cell_type": "code",
   "execution_count": null,
   "id": "22db674e",
   "metadata": {},
   "outputs": [],
   "source": [
    "ttms = [skfmm.travel_time(phi0, speed=m) for m in fields]"
   ]
  },
  {
   "cell_type": "code",
   "execution_count": null,
   "id": "c2051276",
   "metadata": {},
   "outputs": [],
   "source": [
    "fig,axs = plt.subplots(3,len(fields)+1, figsize=(9.1,5),\n",
    "                       gridspec_kw=dict(width_ratios=[10]*len(fields)+[1])\n",
    "                      )\n",
    "\n",
    "inset_width = 32\n",
    "inset_shift = 128\n",
    "extent=(0,512,0,512)\n",
    "\n",
    "morpho_acc = dict()\n",
    "\n",
    "x1, x2, y1, y2 = (inset_shift, \n",
    "                  inset_shift+inset_width, \n",
    "                  inset_shift, \n",
    "                  inset_shift+inset_width, )\n",
    "\n",
    "for ax,m in zip(axs[0],fields):\n",
    "    spf_imh = ax.imshow(m, vmin=0,vmax=1, extent=extent, cmap='viridis')\n",
    "    \n",
    "    m_crop = m[512-inset_shift-inset_width:512-inset_shift,\n",
    "              inset_shift:inset_shift+inset_width]\n",
    "    \n",
    "    axins = ax.inset_axes([0.65, 0.65, 0.33, 0.33], \n",
    "                          xlim=(x1, x2), \n",
    "                          ylim=(y1, y2), \n",
    "                          xticks=[], yticks=[],\n",
    "                         )\n",
    "    axins.imshow(m,vmin=0,vmax=1,\n",
    "                 extent=extent)\n",
    "    \n",
    "    ax.indicate_inset_zoom(axins, edgecolor=\"w\")    \n",
    "    for spine in axins.spines:\n",
    "        axins.spines[spine].set_color('w')\n",
    "    ax.axis('off')\n",
    "\n",
    "    \n",
    "for ax,tt in zip(axs[1],ttms):\n",
    "    ttx = np.ma.filled(tt,np.nanmax(tt))\n",
    "    ih = vis.show_tt_map(tt,ax, extent=extent,origin='lower',cmap='rainbow_r',interpolation='nearest')\n",
    "    axins = ax.inset_axes([0.65, 0.65, 0.33, 0.33], \n",
    "                      xlim=(x1, x2), \n",
    "                      ylim=(y1, y2), \n",
    "                      xticks=[], yticks=[],\n",
    "                     )\n",
    "    vmax = np.percentile(ttx[ttx<np.nanmax(ttx)],99)\n",
    "    #vmax = np.percentile(tt[tt<np.nanmax(tt)],99)\n",
    "    axins.imshow(ttx, vmin=0, vmax=vmax, cmap='rainbow_r', origin='lower', extent=extent)\n",
    "    ax.indicate_inset_zoom(axins, edgecolor=\"w\")\n",
    "\n",
    "\n",
    "morpho_acc['tortuosity'] = list()\n",
    "morpho_acc['root_angle'] = list()\n",
    "morpho_acc['jitter'] = list()\n",
    "\n",
    "for ax,tt in zip(axs[2],ttms,):\n",
    "    tree, fails = fm2b.build_tree(tt, init_pts, tm_mask =~phi0)\n",
    "    tree_more, fails = fm2b.build_tree(tt, init_pts_more, tm_mask =~phi0)\n",
    "\n",
    "    tree_more_simple = tree_more.get_simple()\n",
    "\n",
    "    mst = bmst.build_MSTree((255,255), init_pts,bf=0,progress_bar=False)\n",
    "    Lmst = mst.total_wiring_length\n",
    "    \n",
    "    tree.add_morphometry(tree)\n",
    "    tree_more.add_morphometry()\n",
    "    tree_more_simple.add_morphometry()\n",
    "    \n",
    "    morpho_acc['tortuosity'].append([tree.get_tortuosity(tree)])\n",
    "    morpho_acc['jitter'].append([tree.get_wriggliness()])\n",
    "    morpho_acc['root_angle'].append([n.root_angle for n in tree.tips])\n",
    "    \n",
    "    if len(tree):\n",
    "        vis.plot_tree(tree,ax,random_colors=False,\n",
    "                       lw=0.75,linecolor='k')\n",
    "        tort = np.mean(morpho_acc['tortuosity'][-1])\n",
    "        wriggle = np.mean(morpho_acc['jitter'][-1])\n",
    "        ax.set_title(f'tortuosity: {tort:1.2f},\\n\\\n",
    "jitter: {wriggle:1.2f},\\n\\\n",
    "excess wiring:{tree.total_wiring_length/Lmst:1.1f}',\n",
    "                     horizontalalignment='left',\n",
    "                     loc='left',\n",
    "                     fontsize=9)\n",
    "        ax.axis([0,512,512,0])\n",
    "        ax.axis('off')\n",
    "\n",
    "titles = ('uniform', 'high-pass Gauss', 'MS Gauss', \n",
    "          'high-pass filaments', \n",
    "          'MS filaments')\n",
    "\n",
    "for ax,letter,title in zip(np.ravel(axs), 'abcde', titles):\n",
    "    #ax.text(6,512-24, f'({letter})', backgroundcolor='w') \n",
    "    ax.set_title(title, fontsize=10)\n",
    "\n",
    "cb1 = plt.colorbar(spf_imh, ax=axs[0,-1], \n",
    "                   ticks=[0,1],\n",
    "                   fraction=0.9,\n",
    "                   aspect=7,\n",
    "                   shrink=0.5, \n",
    "                   label='speed')\n",
    "\n",
    "cb2 = plt.colorbar(ih, ax=axs[1,-1], \n",
    "                   shrink=0.5,\n",
    "                   aspect=7,\n",
    "                   fraction=0.9,\n",
    "                   ticks=[0,100*np.round(vmax/100)],\n",
    "                   label='travel time',)                     \n",
    "\n",
    "for ax in axs[:,-1]:\n",
    "    ax.remove()\n",
    "\n",
    "\n",
    "plt.tight_layout()"
   ]
  },
  {
   "cell_type": "code",
   "execution_count": null,
   "id": "55f920b9-0dc8-4622-ade8-9f5163d6aee1",
   "metadata": {},
   "outputs": [],
   "source": [
    "fig = plt.figure(figsize=(5,5))\n",
    "ax = plt.gca()\n",
    "tree,_ = fm2b.build_tree(tt, np.random.permutation(init_pts_more)[:20], tm_mask =~phi0)\n",
    "vis.plot_tree(tree,random_colors=False,linecolor='gray',ax=ax,show_root=False,lw=0.85)\n",
    "vis.plot_tree(tree.get_simple(),random_colors=False,linecolor='lime',ax=ax,lw=0.5,show_root=False)\n",
    "plt.axis('equal')\n",
    "plt.axis('off')"
   ]
  },
  {
   "cell_type": "markdown",
   "id": "a448b3db",
   "metadata": {},
   "source": [
    "## Effect of speed field update"
   ]
  },
  {
   "cell_type": "code",
   "execution_count": null,
   "id": "66a767fb-33e1-45e6-953e-643f1d49b7b5",
   "metadata": {},
   "outputs": [],
   "source": [
    "ttx,bmask = spf.make_ttmap_and_mask(filaments_ms, phi0)"
   ]
  },
  {
   "cell_type": "code",
   "execution_count": null,
   "id": "b54f9da8",
   "metadata": {},
   "outputs": [],
   "source": [
    "vis.show_tt_map(ttx, with_boundary=True)\n",
    "plt.imshow(bmask, alpha=0.25)"
   ]
  },
  {
   "cell_type": "code",
   "execution_count": null,
   "id": "d2500b44",
   "metadata": {},
   "outputs": [],
   "source": [
    "seeds_all = np.array(np.where(bmask)).T\n",
    "seeds = np.random.permutation(seeds_all)[:500]"
   ]
  },
  {
   "cell_type": "markdown",
   "id": "58dfcffb-bcdf-49f1-8ce8-a8864752a7d0",
   "metadata": {},
   "source": [
    "### Compare different nonlinearities"
   ]
  },
  {
   "cell_type": "code",
   "execution_count": null,
   "id": "341bb88a-0343-49a3-a89c-7920c9b67447",
   "metadata": {},
   "outputs": [],
   "source": [
    "%%time \n",
    "\n",
    "Nseeds=250\n",
    "\n",
    "seeds = np.random.permutation(seeds_all)[:Nseeds]\n",
    "\n",
    "fig, axs = plt.subplots(3,4,  figsize=(8,5))\n",
    "\n",
    "\n",
    "col = 0\n",
    "\n",
    "uamps = [0, 1, 0.5, 2, 0.5]\n",
    "algs = ['linear', 'log', 'linear', 'power', 'exp']\n",
    "\n",
    "saved_tree=None\n",
    "\n",
    "bp_acc = []\n",
    "\n",
    "for col, (uam, alg) in enumerate(zip(uamps,algs[:-1])): \n",
    "    tree, speed, ttx = fm2b.iterative_build_tree(filaments_ms, phi0, seeds, \n",
    "                                                 speed_gamma=uam,\n",
    "                                                 scaling=alg,\n",
    "                                                 tm_mask=~phi0, batch_size=1)\n",
    "    tree.add_morphometry()\n",
    "\n",
    "    bp_acc.append(mt.get_branching_pattern(tree))\n",
    "    \n",
    "    if saved_tree is not None:\n",
    "        vis.plot_tree(saved_tree, axs[0,col], \n",
    "                       random_colors=False, \n",
    "                       show_root=False,\n",
    "                       linecolor='lime', lw=0.5)\n",
    "    \n",
    "    vis.plot_tree(tree, axs[0,col], \n",
    "                   random_colors=False, \n",
    "                   show_root=False,\n",
    "                   linecolor='k', lw=0.75)\n",
    "\n",
    "\n",
    "    \n",
    "    axs[0,col].plot(255,255,marker='o',mfc='none',mec='violet',ms=10)\n",
    "    axs[1,col].imshow(clip_outliers(np.log2(1+speed)), cmap='viridis')\n",
    "    vis.show_tt_map(ttx, ax=axs[2,col],cmap='rainbow_r')\n",
    "    axs[0,col].axis([0,512, 512,0])\n",
    "\n",
    "    axs[0,col].set_rasterization_zorder(10000)\n",
    "    \n",
    "    if (uam >0) and saved_tree is None:\n",
    "        saved_tree=tree\n",
    "\n",
    "axs[0,0].set_ylabel('tree')\n",
    "axs[0,1].set_ylabel('updated speed')\n",
    "axs[0,2].set_ylabel('updated travel time')\n",
    "\n",
    "#for ax,letter in zip(np.ravel(axs), 'abcd'):\n",
    "#    ax.text(10,10, f'({letter})', backgroundcolor='w') \n",
    "\n",
    "for ax,letter in zip(np.ravel(axs), \n",
    "                     ('$f(x) = 0$', \n",
    "                      '$f(x)=\\\\log_2(1 + kx)$', \n",
    "                      '$f(x) = kx$',\n",
    "                      '$f(x) = x^k$',\n",
    "                      #'$f(x) = e^{kx}$'\n",
    "                     )):\n",
    "    ax.text(25,10, f'{letter}', backgroundcolor='w') \n",
    "\n",
    "\n",
    "for ax in np.ravel(axs):    \n",
    "    ax.axis('off')\n",
    "\n",
    "plt.tight_layout()"
   ]
  },
  {
   "cell_type": "code",
   "execution_count": null,
   "id": "36ad8bbd",
   "metadata": {},
   "outputs": [],
   "source": [
    "plt.figure(figsize=(2,2))\n",
    "for rad,bp in bp_acc:\n",
    "    plt.plot(np.linspace(0,1,len(bp)),ndi.gaussian_filter1d(bp,1.5))\n",
    "vis.lean_axes(plt.gca())\n",
    "plt.axhline(0, color='silver',lw=0.75,)\n",
    "plt.xlabel('rel. distance to root')"
   ]
  },
  {
   "cell_type": "markdown",
   "id": "6e201fbe-4681-4502-b5c7-1932b6aba44d",
   "metadata": {},
   "source": [
    "### Test for negative $k$ in power-law dependence"
   ]
  },
  {
   "cell_type": "code",
   "execution_count": null,
   "id": "88b76ba1-654f-47b4-b05c-05505a09c2ce",
   "metadata": {},
   "outputs": [],
   "source": [
    "Nseeds = 500\n",
    "seeds = np.random.permutation(seeds_all)[:Nseeds]"
   ]
  },
  {
   "cell_type": "code",
   "execution_count": null,
   "id": "1f201ade-5b01-4fb8-a5a3-090ca0ab641b",
   "metadata": {},
   "outputs": [],
   "source": [
    "tree_pos, speed_pos, ttx = fm2b.iterative_build_tree(filaments_ms, phi0, \n",
    "                                             seeds, \n",
    "                                             speed_gamma=1,\n",
    "                                             scaling='power',\n",
    "                                             tm_mask=~phi0, \n",
    "                                             batch_size=1)\n",
    "\n",
    "bp_pos = mt.get_branching_pattern(tree_pos)"
   ]
  },
  {
   "cell_type": "code",
   "execution_count": null,
   "id": "b967cb9b-af47-40dd-8266-ab1a65e8c7f8",
   "metadata": {},
   "outputs": [],
   "source": [
    "tree_neg, speed_neg, ttx = fm2b.iterative_build_tree(filaments_ms, \n",
    "                                                 phi0, \n",
    "                                                 seeds, \n",
    "                                                 speed_gamma=-1,\n",
    "                                                 scaling='power',\n",
    "                                                 tm_mask=~phi0, \n",
    "                                                 batch_size=1)\n",
    "tree_neg.add_morphometry()\n",
    "bp_neg = mt.get_branching_pattern(tree_neg)"
   ]
  },
  {
   "cell_type": "code",
   "execution_count": null,
   "id": "964d51df-90fe-4e67-985e-10442d7c1174",
   "metadata": {},
   "outputs": [],
   "source": [
    "tree_flat, speed_flat, ttx = fm2b.iterative_build_tree(filaments_ms, \n",
    "                                                 phi0, \n",
    "                                                 seeds, \n",
    "                                                 speed_gamma=0,\n",
    "                                                 scaling='linear',\n",
    "                                                 tm_mask=~phi0, \n",
    "                                                 batch_size=1)\n",
    "bp_f = mt.get_branching_pattern(tree_flat)"
   ]
  },
  {
   "cell_type": "code",
   "execution_count": null,
   "id": "874d3070-7e00-4938-a431-f8378b2aff37",
   "metadata": {},
   "outputs": [],
   "source": [
    "tree_zero, speed_zero, ttx = fm2b.iterative_build_tree(filaments_ms, \n",
    "                                                 phi0, \n",
    "                                                 seeds, \n",
    "                                                 speed_gamma=0,\n",
    "                                                 scaling='power',\n",
    "                                                 tm_mask=~phi0, \n",
    "                                                 batch_size=1)\n",
    "tree_zero.add_morphometry()\n",
    "bp_z = mt.get_branching_pattern(tree_zero)"
   ]
  },
  {
   "cell_type": "code",
   "execution_count": null,
   "id": "e61257a9-5784-4836-8f73-985a677fd8db",
   "metadata": {},
   "outputs": [],
   "source": [
    "fig,axes = plt.subplots(1,3, figsize=(9,3))\n",
    "\n",
    "maps = (np.log2(1+m) for m in (speed_pos, speed_zero, speed_neg))\n",
    "titles = ('$k = 1$', '$k = 0$', '$k = -1$')\n",
    "for ax, m,t  in zip(axes, maps, titles):\n",
    "    ax.imshow(clip_outliers(m))#, vmin=0, vmax=1)\n",
    "    ax.axis('off')\n",
    "    ax.set_title(t,fontsize=10)\n",
    "plt.tight_layout()"
   ]
  },
  {
   "cell_type": "code",
   "execution_count": null,
   "id": "0cbda660-8e03-41a8-a396-da559b705d6a",
   "metadata": {},
   "outputs": [],
   "source": [
    "#fig = plt.figure()\n",
    "#ax = plt.gca()\n",
    "fig, axs = plt.subplots(1,2, figsize=(9,3), \n",
    "                        gridspec_kw=dict(wspace=0.25, width_ratios=(1,1.5)))\n",
    "\n",
    "ax = axs[0]\n",
    "vis.plot_tree(tree_pos, show_root=True, lw=0.85, random_colors=False, linecolor='lime', ax=ax)\n",
    "vis.plot_tree(tree_neg, show_root=True, lw=1, random_colors=False, linecolor='fuchsia', ax=ax)\n",
    "vis.plot_tree(tree_zero, show_root=True, lw=0.85, random_colors=False, linecolor='k', ax=ax)\n",
    "ax.axis('equal')\n",
    "ax.axis('off')\n",
    "\n",
    "ax = axs[1]\n",
    "ax.plot(bp_pos[0]/bp_pos[0].max(),bp_pos[1], color='lime',lw=0.85, label='$k=1$')\n",
    "ax.plot(bp_z[0]/bp_z[0].max(),bp_z[1], color='k',lw=0.85, label='$k=0$')\n",
    "ax.plot(bp_neg[0]/bp_neg[0].max(),bp_neg[1], color='fuchsia',lw=1,label='$k=-1$')\n",
    "ax.plot(bp_f[0]/bp_f[0].max(),bp_f[1], color='gray', ls='--',lw=1,label='flat')\n",
    "vis.lean_axes(ax)\n",
    "ax.legend()\n",
    "ax.set_xlabel('rel. distance to root')\n",
    "ax.set_ylabel('rel. #bifs $-$ #leaves')"
   ]
  },
  {
   "cell_type": "code",
   "execution_count": null,
   "id": "3928b9fa-d891-41b9-ae07-ba80cc489b8c",
   "metadata": {},
   "outputs": [],
   "source": [
    "mst = bmst.build_MSTree((255,255),seeds,bf=1,progress_bar=True)"
   ]
  },
  {
   "cell_type": "code",
   "execution_count": null,
   "id": "0de0d2ba-f07d-495a-847e-95f4b846ef15",
   "metadata": {},
   "outputs": [],
   "source": [
    "Lmst = mst.total_wiring_length\n",
    "\n",
    "L_pos = tree.total_wiring_length\n",
    "L_zero = tree_zero.total_wiring_length\n",
    "L_neg = tree_neg.total_wiring_length\n",
    "L_flat = tree_flat.total_wiring_length\n",
    "print(L_pos/Lmst, L_zero/Lmst, L_neg/Lmst, L_flat/Lmst)"
   ]
  },
  {
   "cell_type": "code",
   "execution_count": null,
   "id": "41e885c6-047c-493f-bf91-861306209cf0",
   "metadata": {},
   "outputs": [],
   "source": [
    "[np.mean(tr.get_tortuosity()) for tr in (tree, tree_zero, tree_neg)]"
   ]
  },
  {
   "cell_type": "markdown",
   "id": "279f1ee8-52af-46ec-bffe-a1c2b6b3773c",
   "metadata": {},
   "source": [
    "## Comparison to MST (Cuntz)\n",
    "\n",
    "### MST"
   ]
  },
  {
   "cell_type": "code",
   "execution_count": null,
   "id": "f22cd06d",
   "metadata": {},
   "outputs": [],
   "source": [
    "bf_list = np.linspace(0, 0.9, 10)\n",
    "Nseeds = 250\n",
    "bf_list"
   ]
  },
  {
   "cell_type": "code",
   "execution_count": null,
   "id": "6d77eecc",
   "metadata": {},
   "outputs": [],
   "source": [
    "acc = dict()\n",
    "examples = dict()\n",
    "\n",
    "for bf in tqdm(bf_list):\n",
    "    acc[bf] = {'root_angle':[],\n",
    "               'extra_wiring':[],\n",
    "               'tortuosity':[],\n",
    "               'wriggliness':[],\n",
    "               'branching':[]}\n",
    "    for i in (range(10)):\n",
    "        seeds = np.random.permutation(seeds_all)[:Nseeds]\n",
    "        tree = bmst.build_MSTree((255,255),seeds,bf=bf,progress_bar=False)\n",
    "        mst = bmst.build_MSTree((255,255),seeds,bf=0,progress_bar=False)\n",
    "        tree.add_morphometry()\n",
    "        mst.add_morphometry()\n",
    "        \n",
    "        L = tree.total_wiring_length\n",
    "        Lmst = mst.total_wiring_length\n",
    "        \n",
    "        rad,bp = mt.get_branching_pattern(tree)\n",
    "\n",
    "        #bp = bp/(len(fm2b.get_bifurcations(tree)) + len(fm2b.get_tips(tree)))\n",
    "        \n",
    "        root_angles = [n.root_angle for n in tree.nodes]\n",
    "\n",
    "        acc[bf]['root_angle'].append(np.nanmean(root_angles))\n",
    "        acc[bf]['extra_wiring'].append(np.nanmean(L/Lmst))\n",
    "        acc[bf]['branching'].append(bp)\n",
    "        acc[bf]['wriggliness'].append(np.nanmean(tree.get_wriggliness()))\n",
    "        acc[bf]['tortuosity'].append(np.nanmean(tree.get_tortuosity()))\n",
    "    examples[bf] = tree"
   ]
  },
  {
   "cell_type": "code",
   "execution_count": null,
   "id": "6fb44903-b996-42b1-85e5-071a23321fc2",
   "metadata": {},
   "outputs": [],
   "source": [
    "fig, axs = plt.subplots(1,5,sharex=True, figsize=(9,2))\n",
    "#for ax, bf in zip(axs, [bf_list[0],bf_list[2],bf_list[4],bf_list[8], bf_list[-1]]):\n",
    "for ax, bf in zip(axs, bf_list[::2]):\n",
    "    example = examples[bf]\n",
    "    vis.plot_tree(example,ax=ax,random_colors=False,linecolor='k',lw=0.5,show_root=False)\n",
    "    ax.plot(255,255, 'o',color='violet',ms=10,mfc='none')\n",
    "    ax.set_title(f'$bf={bf:1.1f}$',fontsize=10)\n",
    "    ax.axis('off')"
   ]
  },
  {
   "cell_type": "code",
   "execution_count": null,
   "id": "7766ae29",
   "metadata": {},
   "outputs": [],
   "source": [
    "fig,axs = plt.subplots(1,4,figsize=(9,2.5),\n",
    "                       gridspec_kw=dict(\n",
    "                       width_ratios=(1,1,1.5,0.1),\n",
    "                       wspace=0.75))\n",
    "\n",
    "for bf in acc:\n",
    "    print(bf)\n",
    "\n",
    "    ax = axs[0]\n",
    "    ax.plot(acc[bf]['extra_wiring'], \n",
    "            acc[bf]['tortuosity'], '.',\n",
    "            color=plt.cm.coolwarm(bf),\n",
    "            label=f'{bf:1.2f}')\n",
    "    ax.set_ylabel('tortuosity')\n",
    "\n",
    "    ax = axs[1]\n",
    "    ax.plot(acc[bf]['extra_wiring'], \n",
    "            acc[bf]['root_angle'], '.',\n",
    "            color=plt.cm.coolwarm(bf),\n",
    "            label=f'{bf:1.2f}')\n",
    "    ax.set_ylabel('root angle')\n",
    "\n",
    "    avg_bp = ndi.gaussian_filter1d(np.mean(acc[bf]['branching'],0),1.5)\n",
    "    rel_rad = np.linspace(0,1,len(avg_bp))\n",
    "    axs[2].plot(rel_rad, avg_bp, color=plt.cm.coolwarm(bf))\n",
    "\n",
    "for ax in axs[:2]:\n",
    "    ax.set_xlabel('excess wiring')\n",
    "    ax.axvline(1,color='silver',lw=0.5,zorder=-10)\n",
    "    ax.set_xticks([1,1.5,2])\n",
    "    ax.set_xlim(0.9,2.1)\n",
    "\n",
    "axs[0].set(ylim = (0.85, 5.5))\n",
    "\n",
    "# axs[1].set(ylim = (0.2, 1.5), yticks=np.pi/12*np.arange(1,7),\n",
    "#            yticklabels=['π/12', 'π/6', 'π/4', 'π/3', '5π/12', 'π/2']\n",
    "#           )\n",
    "\n",
    "\n",
    "axs[1].set(ylim = (0.2, 1.5), yticks=np.deg2rad(np.arange(15, 90, 15)),\n",
    "           yticklabels=[f'{x:1.0f}°' for x in np.arange(15, 90, 15)]\n",
    "          )\n",
    "\n",
    "\n",
    "axs[2].set(xlabel = 'rel. distance to root',\n",
    "           ylabel = 'rel. $(N_{bif} - N_{tip})$',\n",
    "           ylim = (-0.1, 0.2))\n",
    "\n",
    "\n",
    "axs[2].axhline(0, color='silver',lw=0.5,zorder=-10)\n",
    "\n",
    "\n",
    "h = axs[3].imshow(np.linspace(0,1).reshape(-1,1),cmap='coolwarm')\n",
    "cb = plt.colorbar(h,ax=axs[3],fraction=0.33,aspect=15,label='$bf$')\n",
    "axs[3].remove()\n",
    "\n",
    "for ax in axs[:3]:\n",
    "    vis.lean_axes(ax)"
   ]
  },
  {
   "cell_type": "markdown",
   "id": "d34d03ff",
   "metadata": {},
   "source": [
    "### Ranging update rate in FM2B"
   ]
  },
  {
   "cell_type": "code",
   "execution_count": null,
   "id": "c31e283a",
   "metadata": {},
   "outputs": [],
   "source": [
    "uamps = np.linspace(0,0.5,11)"
   ]
  },
  {
   "cell_type": "code",
   "execution_count": null,
   "id": "4c6aec0e",
   "metadata": {},
   "outputs": [],
   "source": [
    "uamps"
   ]
  },
  {
   "cell_type": "code",
   "execution_count": null,
   "id": "d4c5b897",
   "metadata": {},
   "outputs": [],
   "source": [
    "acc2 = dict()\n",
    "examples2 = dict()\n",
    "\n",
    "for uamp in tqdm(uamps):\n",
    "    acc2[uamp] = {'root_angle':[],\n",
    "           'extra_wiring':[],\n",
    "           'tortuosity':[],\n",
    "           'wriggliness':[],\n",
    "           'branching':[]}\n",
    "    for i in range(3):\n",
    "        speed_profile = spf.multiscale_Sato()\n",
    "        phi0 = spf.central_phi0(speed_profile.shape)\n",
    "\n",
    "        # prevent speed profile from being zero just in this point\n",
    "        speed_profile[~phi0] = np.median(speed_profile)\n",
    "        \n",
    "        seeds = np.random.permutation(seeds_all)[:Nseeds]\n",
    "        \n",
    "        tree, _, _ = fm2b.iterative_build_tree(speed_profile, phi0, seeds, \n",
    "                                               speed_gamma=uamp,\n",
    "                                               tm_mask=~phi0, batch_size=1,\n",
    "                                               batch_size_alpha=1.1,\n",
    "                                               progress_bar=False)\n",
    "        simple = tree.get_simple()\n",
    "        mst = bmst.build_MSTree((255,255),seeds,bf=0,progress_bar=False)\n",
    "        tree.add_morphometry()\n",
    "        simple.add_morphometry()\n",
    "        mst.add_morphometry()\n",
    "        \n",
    "        L = tree.total_wiring_length\n",
    "        Lmst = mst.total_wiring_length\n",
    "        \n",
    "        rad,bp = mt.get_branching_pattern(tree)\n",
    "\n",
    "        #bp = bp/(len(fm2b.get_bifurcations(tree)) + len(fm2b.get_tips(tree)))\n",
    "        \n",
    "        #root_angles = [n.root_angle for n in tree.values()]\n",
    "        root_angles = [n.root_angle for n in simple.values()]\n",
    "\n",
    "        acc2[uamp]['root_angle'].append(np.nanmean(root_angles))\n",
    "        acc2[uamp]['extra_wiring'].append(np.nanmean(L/Lmst))\n",
    "        acc2[uamp]['branching'].append(bp)\n",
    "        acc2[uamp]['wriggliness'].append(np.nanmean(tree.get_wriggliness()))\n",
    "        acc2[uamp]['tortuosity'].append(np.nanmean(tree.get_tortuosity()))\n",
    "    examples2[uamp] = tree        "
   ]
  },
  {
   "cell_type": "code",
   "execution_count": null,
   "id": "ca2eec8a-1e77-476f-a4cc-ea0400f1213f",
   "metadata": {},
   "outputs": [],
   "source": []
  },
  {
   "cell_type": "code",
   "execution_count": null,
   "id": "0c15d91a",
   "metadata": {},
   "outputs": [],
   "source": [
    "fig,axs = plt.subplots(1,4,figsize=(9,2.5),\n",
    "                       gridspec_kw=dict(\n",
    "                       width_ratios=(1,1,1.5,0.1),\n",
    "                       wspace=0.75))\n",
    "\n",
    "for uamp in acc2:\n",
    "\n",
    "    ax = axs[0]\n",
    "    ax.plot(acc2[uamp]['extra_wiring'], \n",
    "            acc2[uamp]['tortuosity'], '.',\n",
    "            color=plt.cm.Reds_r(uamp/np.max(uamps)),\n",
    "            label=f'{uamp:1.2f}')\n",
    "    ax.set_ylabel('tortuosity')\n",
    "\n",
    "    ax = axs[1]\n",
    "    ax.plot(acc2[uamp]['extra_wiring'], \n",
    "            acc2[uamp]['root_angle'], '.',\n",
    "            color=plt.cm.Reds_r(uamp/np.max(uamps)),\n",
    "            label=f'{uamp:1.2f}')\n",
    "    ax.set_ylabel('root angle')\n",
    "\n",
    "    avg_bp = ndi.gaussian_filter1d(np.mean(acc2[uamp]['branching'],0),1.5)\n",
    "    rel_rad = np.linspace(0,1,len(avg_bp))\n",
    "    axs[2].plot(rel_rad, avg_bp, color=plt.cm.Reds_r(uamp/np.max(uamps)))\n",
    "\n",
    "for ax in axs[:2]:\n",
    "    ax.set_xlabel('excess wiring')\n",
    "    ax.axvline(1,color='silver',lw=0.5,zorder=-10)\n",
    "    ax.set_xticks([1,1.5,2])\n",
    "    ax.set_xlim(0.9,2.2)\n",
    "    \n",
    "    #ax.set_xticks([1,2,3,4])\n",
    "axs[2].set_xlabel('rel. distance to root')\n",
    "axs[2].set_ylabel('rel. $(N_{bif} - N_{tip})$')\n",
    "\n",
    "\n",
    "axs[0].set(ylim = (0.85, 5.5))\n",
    "#axs[1].set(ylim = (0.2, 1.3))\n",
    "\n",
    "axs[1].set(ylim = (0.2, 1.5), yticks=np.deg2rad(np.arange(15, 90, 15)),\n",
    "           yticklabels=[f'{x:1.0f}°' for x in np.arange(15, 90, 15)]\n",
    "          )\n",
    "\n",
    "\n",
    "axs[2].set(xlabel = 'rel. distance to root',\n",
    "           ylabel = 'rel. $(N_{bif} - N_{tip})$',\n",
    "           ylim = (-0.1, 0.2))\n",
    "\n",
    "axs[2].axhline(0, color='silver',lw=0.5,zorder=-10)\n",
    "\n",
    "\n",
    "h = axs[3].imshow(uamps.reshape(-1,1),cmap='Reds_r')\n",
    "cb = plt.colorbar(h,ax=axs[3],fraction=0.33,aspect=15,label='update rate')\n",
    "axs[3].remove()\n",
    "\n",
    "for ax in axs[:3]:\n",
    "    vis.lean_axes(ax)\n"
   ]
  },
  {
   "cell_type": "code",
   "execution_count": null,
   "id": "5a085538",
   "metadata": {},
   "outputs": [],
   "source": [
    "fig, axs = plt.subplots(1,5,sharex=True, figsize=(9,2))\n",
    "\n",
    "\n",
    "\n",
    "for ax, uamp in zip(axs, uamps[:-1:2][::-1]):\n",
    "    example = examples2[uamp]\n",
    "    vis.plot_tree(example,ax=ax,random_colors=False,linecolor='k',lw=0.5,show_root=False)\n",
    "    ax.plot(255,255, 'o',color='violet',ms=10,mfc='none')\n",
    "    ax.set_title(f'update rate: {uamp:1.1f}',fontsize=9)\n",
    "    ax.axis('off')\n"
   ]
  },
  {
   "cell_type": "markdown",
   "id": "2a35e529",
   "metadata": {},
   "source": [
    "### Ranging wavesource update in FM2B: closer to MST"
   ]
  },
  {
   "cell_type": "code",
   "execution_count": null,
   "id": "d6db974f",
   "metadata": {},
   "outputs": [],
   "source": [
    "len(seeds)"
   ]
  },
  {
   "cell_type": "code",
   "execution_count": null,
   "id": "7ad82cc3",
   "metadata": {},
   "outputs": [],
   "source": [
    "tree, _, _ = fm2b.iterative_build_tree(filaments_ms, phi0, seeds, \n",
    "                                       tm_mask=~phi0, \n",
    "                                       batch_size=1,\n",
    "                                       batch_size_alpha=1,\n",
    "                                       do_phi0_update=True,\n",
    "                                       max_count_phi0=2,\n",
    "                                       speed_gamma=0,\n",
    "                                       progress_bar=False)\n",
    "mst = bmst.build_MSTree((255,255),seeds,bf=0,progress_bar=False)"
   ]
  },
  {
   "cell_type": "code",
   "execution_count": null,
   "id": "554e0a05-4cd1-462e-8494-37ea525805eb",
   "metadata": {},
   "outputs": [],
   "source": [
    "vis.plot_tree(tree)"
   ]
  },
  {
   "cell_type": "code",
   "execution_count": null,
   "id": "15da1e3c-be4e-4983-8297-ad5d02ecd917",
   "metadata": {},
   "outputs": [],
   "source": [
    "nages = np.arange(2,250,50)\n",
    "nages = np.array([2, 51, 101, 151, 251])\n",
    "len(nages)"
   ]
  },
  {
   "cell_type": "code",
   "execution_count": null,
   "id": "aae18701",
   "metadata": {},
   "outputs": [],
   "source": [
    "nages"
   ]
  },
  {
   "cell_type": "code",
   "execution_count": null,
   "id": "90c45957",
   "metadata": {},
   "outputs": [],
   "source": [
    "acc3 = dict()\n",
    "examples3 = dict()\n",
    "\n",
    "for nage in tqdm(nages):\n",
    "    acc3[nage] = {'root_angle':[],\n",
    "           'extra_wiring':[],\n",
    "           'tortuosity':[],\n",
    "           'wriggliness':[],\n",
    "           'branching':[]}\n",
    "    for i in range(3):\n",
    "        speed_profile = spf.multiscale_Sato(field_shape)\n",
    "\n",
    "        # prevent speed profile from being zero just in this point\n",
    "        speed_profile[~phi0] = np.median(speed_profile)\n",
    "        \n",
    "        seeds = np.random.permutation(seeds_all)[:Nseeds]\n",
    "        \n",
    "        tree, _, _ = fm2b.iterative_build_tree(speed_profile, phi0, seeds, \n",
    "                                               speed_gamma=0,\n",
    "                                               do_phi0_update=True,\n",
    "                                               max_count_phi0=nage,\n",
    "                                               tm_mask=~phi0, \n",
    "                                               batch_size=1,\n",
    "                                               batch_size_alpha=1.1,\n",
    "                                               progress_bar=False)\n",
    "        simple = tree.get_simple()\n",
    "        mst = bmst.build_MSTree((255,255),seeds,bf=0,progress_bar=False)\n",
    "        tree.add_morphometry()\n",
    "        simple.add_morphometry()\n",
    "        mst.add_morphometry()\n",
    "        \n",
    "        L = tree.total_wiring_length\n",
    "        Lmst = mst.total_wiring_length\n",
    "        \n",
    "        rad,bp = mt.get_branching_pattern(tree)\n",
    "\n",
    "        #bp = bp/(len(fm2b.get_bifurcations(tree)) + len(fm2b.get_tips(tree)))\n",
    "        \n",
    "        #root_angles = [n.root_angle for n in tree.values()]\n",
    "        root_angles = [n.root_angle for n in simple.values()]\n",
    "\n",
    "        acc3[nage]['root_angle'].append(np.nanmean(root_angles))\n",
    "        acc3[nage]['extra_wiring'].append(np.nanmean(L/Lmst))\n",
    "        acc3[nage]['branching'].append(bp)\n",
    "        acc3[nage]['wriggliness'].append(np.nanmean(tree.get_wriggliness()))\n",
    "        acc3[nage]['tortuosity'].append(np.nanmean(tree.get_tortuosity()))\n",
    "    examples3[nage] = tree        "
   ]
  },
  {
   "cell_type": "code",
   "execution_count": null,
   "id": "9fff7aee",
   "metadata": {},
   "outputs": [],
   "source": [
    "acc3.keys()"
   ]
  },
  {
   "cell_type": "code",
   "execution_count": null,
   "id": "8617826e",
   "metadata": {},
   "outputs": [],
   "source": [
    "fig,axs = plt.subplots(1,4,figsize=(9,2.5),\n",
    "                       gridspec_kw=dict(\n",
    "                       width_ratios=(1,1,1.5,0.1),\n",
    "                       wspace=0.75))\n",
    "\n",
    "for uamp in acc2:\n",
    "    ax = axs[0]\n",
    "    ax.plot(acc2[uamp]['extra_wiring'], \n",
    "            acc2[uamp]['tortuosity'], '.',\n",
    "            color=plt.cm.Reds_r(uamp/np.max(uamps)),\n",
    "            label=f'{uamp:1.2f}')\n",
    "    ax.set_ylabel('tortuosity')\n",
    "\n",
    "    ax = axs[1]\n",
    "    ax.plot(acc2[uamp]['extra_wiring'], \n",
    "            acc2[uamp]['root_angle'], '.',\n",
    "            color=plt.cm.Reds_r(uamp/np.max(uamps)),\n",
    "            label=f'{uamp:1.2f}')\n",
    "    ax.set_ylabel('root angle, rad')\n",
    "    avg_bp = ndi.gaussian_filter1d(np.mean(acc2[uamp]['branching'],0),1.5)\n",
    "    rel_rad = np.linspace(0,1,len(avg_bp))\n",
    "    axs[2].plot(rel_rad, avg_bp, color=plt.cm.Reds_r(uamp/np.max(uamps)))    \n",
    "\n",
    "for nage in acc3:\n",
    "\n",
    "    ax = axs[0]\n",
    "    ax.plot(acc3[nage]['extra_wiring'], \n",
    "            acc3[nage]['tortuosity'], '+',\n",
    "            color=plt.cm.Blues(nage/np.max(nages)),\n",
    "            label=f'{nage:1.2f}')\n",
    "    ax.set_ylabel('tortuosity')\n",
    "\n",
    "    ax = axs[1]\n",
    "    ax.plot(acc3[nage]['extra_wiring'], \n",
    "            acc3[nage]['root_angle'], '+',\n",
    "            color=plt.cm.Blues(nage/np.max(nages)),\n",
    "            label=f'{uamp:1.2f}')\n",
    "    ax.set_ylabel('root angle')\n",
    "\n",
    "    avg_bp = ndi.gaussian_filter1d(np.mean(acc3[nage]['branching'],0),1.5)\n",
    "    rel_rad = np.linspace(0,1,len(avg_bp))\n",
    "    axs[2].plot(rel_rad, avg_bp, color=plt.cm.Blues(nage/np.max(nages)))\n",
    "\n",
    "for ax in axs[:2]:\n",
    "    ax.set_xlabel('excess wiring')\n",
    "    ax.axvline(1,color='silver',lw=0.5,zorder=-10)\n",
    "    ax.set_xticks([1,1.5,2])\n",
    "    ax.set_xlim(0.9,2.2)\n",
    "    \n",
    "    #ax.set_xticks([1,2,3,4])\n",
    "axs[2].set_xlabel('rel. distance to root')\n",
    "axs[2].set_ylabel('rel. $(N_{bif} - N_{tip})$')\n",
    "\n",
    "\n",
    "axs[0].set(ylim = (0.85, 5.5))\n",
    "#axs[1].set(ylim = (0.2, 1.5))\n",
    "\n",
    "axs[1].set(ylim = (0.2, 1.5), yticks=np.deg2rad(np.arange(15, 90, 15)),\n",
    "           yticklabels=[f'{x:1.0f}°' for x in np.arange(15, 90, 15)]\n",
    "          )\n",
    "\n",
    "\n",
    "axs[2].set(xlabel = 'rel. distance to root',\n",
    "           ylabel = 'rel. $(N_{bif} - N_{tip})$',\n",
    "           ylim = (-0.1, 0.2)\n",
    "          )\n",
    "\n",
    "axs[2].axhline(0, color='silver',lw=0.5,zorder=-10)\n",
    "\n",
    "\n",
    "h = axs[3].imshow(nages.reshape(-1,1),cmap='Blues')\n",
    "cb = plt.colorbar(h,ax=axs[3],fraction=0.33,aspect=15,label='leaf index')\n",
    "axs[3].remove()\n",
    "\n",
    "for ax in axs[:3]:\n",
    "    vis.lean_axes(ax)\n",
    "#plt.legend()\n",
    "#plt.gca().set(xscale='log', yscale='log')\n",
    "#vis.multi_savefig(fig, f'figures/fm2b-nage-examples-{Nseeds}_seeds')"
   ]
  },
  {
   "cell_type": "code",
   "execution_count": null,
   "id": "42643b44",
   "metadata": {},
   "outputs": [],
   "source": [
    "#3*9/5"
   ]
  },
  {
   "cell_type": "code",
   "execution_count": null,
   "id": "dbbd1049",
   "metadata": {},
   "outputs": [],
   "source": [
    "fig, axs = plt.subplots(3,5,sharex=True, figsize=(9,3*(9/5)))\n",
    "\n",
    "for ax, bf in zip(axs[0], bf_list[::2]):\n",
    "    example = examples[bf]\n",
    "    vis.plot_tree(example,ax=ax,random_colors=False,linecolor='k',lw=0.5,show_root=False)\n",
    "    ax.set_title(f'{bf:1.1f}',fontsize=9)\n",
    "\n",
    "for ax, uamp in zip(axs[1], uamps[:-1:2][::-1]):\n",
    "    example = examples2[uamp]\n",
    "    vis.plot_tree(example,ax=ax,random_colors=False,linecolor='k',lw=0.5,\n",
    "                   #rasterize=True,\n",
    "                   show_root=False)\n",
    "    ax.set_title(f'{uamp:1.1f}',fontsize=9)\n",
    "    ax.set_rasterization_zorder(10000)\n",
    "\n",
    "\n",
    "for ax, nage in zip(axs[2], nages):\n",
    "    example = examples3[nage]\n",
    "    vis.plot_tree(example,ax=ax,random_colors=False,linecolor='k',lw=0.5,\n",
    "                   #rasterize=True,\n",
    "                   show_root=False)\n",
    "    ax.set_title(f'{nage-1}',fontsize=9)\n",
    "    #ax.set_rasterized(True)\n",
    "    ax.set_rasterization_zorder(10000)\n",
    "    \n",
    "\n",
    "for ax in np.ravel(axs):\n",
    "    ax.plot(255,255, 'o',color='violet',ms=10,mfc='none')\n",
    "    ax.axis('off')\n",
    "\n",
    "vis.multi_savefig(fig, f'figures/fm2b-nage-example-trees-{Nseeds}_seeds-rasterized')    "
   ]
  },
  {
   "cell_type": "markdown",
   "id": "24472dc0",
   "metadata": {},
   "source": [
    "## Figure: Sampling strategies"
   ]
  },
  {
   "cell_type": "code",
   "execution_count": null,
   "id": "32e51e6b",
   "metadata": {},
   "outputs": [],
   "source": [
    "ttx,bmask = spf.make_ttmap_and_mask(filaments_ms, phi0)\n",
    "bmask_filt =  largest_region(ndi.binary_fill_holes(np.ma.filled(bmask)))"
   ]
  },
  {
   "cell_type": "code",
   "execution_count": null,
   "id": "6d94bd60",
   "metadata": {},
   "outputs": [],
   "source": [
    "reload(vis)\n",
    "plasma_x = vis.make_seethrough_colormap()\n",
    "jet_x = vis.make_seethrough_colormap('jet')\n",
    "reds_x = vis.make_seethrough_colormap('Reds')\n",
    "blues_x = vis.make_seethrough_colormap('Blues')\n",
    "spectralr_x = vis.make_seethrough_colormap('Spectral_r')\n",
    "cmxg = vis.make_seethrough_colormap('Greens_r')"
   ]
  },
  {
   "cell_type": "code",
   "execution_count": null,
   "id": "23aacfe9",
   "metadata": {},
   "outputs": [],
   "source": [
    "central_prob = gauss_blob((255,255), 75, field_shape)*(bmask_filt)\n",
    "central_prob = ndi.gaussian_filter(central_prob, 5)\n",
    "central_prob = central_prob/np.sum(central_prob)\n",
    "plt.imshow(central_prob)"
   ]
  },
  {
   "cell_type": "code",
   "execution_count": null,
   "id": "1ea7ba77",
   "metadata": {},
   "outputs": [],
   "source": [
    "periph_prob = gauss_blob((255,255), 200, field_shape) - gauss_blob((255,255), 175, field_shape)\n",
    "periph_prob = periph_prob**2\n",
    "periph_prob *= bmask_filt\n",
    "periph_prob = ndi.gaussian_filter(periph_prob, 5)\n",
    "periph_prob = periph_prob/np.sum(periph_prob)\n",
    "\n",
    "plt.imshow(periph_prob)"
   ]
  },
  {
   "cell_type": "code",
   "execution_count": null,
   "id": "0e2b8fa6",
   "metadata": {},
   "outputs": [],
   "source": [
    "uniform_prob = ndi.gaussian_filter(np.ones(field_shape)*bmask_filt,5)\n",
    "\n",
    "uniform_prob = uniform_prob/np.sum(uniform_prob)\n",
    "plt.imshow(uniform_prob)"
   ]
  },
  {
   "cell_type": "code",
   "execution_count": null,
   "id": "386a0604",
   "metadata": {},
   "outputs": [],
   "source": [
    "uniform_locs = sample_points(uniform_prob) \n",
    "periph_locs = sample_points(periph_prob)\n",
    "central_locs = sample_points(central_prob)\n",
    "\n",
    "uniform_locs_s   = sorted(uniform_locs, key=lambda p: eu_dist(p, (255,255)))"
   ]
  },
  {
   "cell_type": "code",
   "execution_count": null,
   "id": "d239f554",
   "metadata": {},
   "outputs": [],
   "source": [
    "periph_locs_dense = sample_points(periph_prob,2000)"
   ]
  },
  {
   "cell_type": "code",
   "execution_count": null,
   "id": "cb44ca4f",
   "metadata": {},
   "outputs": [],
   "source": []
  },
  {
   "cell_type": "code",
   "execution_count": null,
   "id": "c27a907c",
   "metadata": {},
   "outputs": [],
   "source": [
    "root_asym = (255, 400)\n",
    "phi0_asym = np.zeros(field_shape,bool)\n",
    "phi0_asym[root_asym] = True\n",
    "phi0_asym = ~phi0_asym"
   ]
  },
  {
   "cell_type": "code",
   "execution_count": null,
   "id": "79f3d452",
   "metadata": {},
   "outputs": [],
   "source": [
    "speed_for_asym = filaments_ms*(2e-5 + 5*periph_prob)\n",
    "plt.imshow(speed_for_asym)"
   ]
  },
  {
   "cell_type": "code",
   "execution_count": null,
   "id": "3385e02b",
   "metadata": {},
   "outputs": [],
   "source": [
    "uniform_locs_s2 = sorted(uniform_locs, \n",
    "                         #key=lambda x: -eu_dist(x, (0,255)))\n",
    "                         key=lambda x: -eu_dist(x, (0,300)))"
   ]
  },
  {
   "cell_type": "code",
   "execution_count": null,
   "id": "cb73641b",
   "metadata": {},
   "outputs": [],
   "source": [
    "prob_vmax = np.max([np.max(uniform_prob), np.max(central_prob), np.max(periph_prob)])"
   ]
  },
  {
   "cell_type": "code",
   "execution_count": null,
   "id": "3a40b044",
   "metadata": {},
   "outputs": [],
   "source": [
    "len(uniform_locs_s)"
   ]
  },
  {
   "cell_type": "code",
   "execution_count": null,
   "id": "7a3ecaf0",
   "metadata": {},
   "outputs": [],
   "source": [
    "tree_sampling_acc = dict()"
   ]
  },
  {
   "cell_type": "code",
   "execution_count": null,
   "id": "67e7c098-7840-4c01-bc30-8539c6b788db",
   "metadata": {},
   "outputs": [],
   "source": [
    "fig, axs = plt.subplots(2,3, figsize=(9,6), gridspec_kw=dict(hspace=0.05, wspace=0.05))\n",
    "\n",
    "cmap='GnBu'\n",
    "\n",
    "# -- uniform prob, ordered sampling (center)\n",
    "ax = axs[0,0]\n",
    "tree, speed, ttx = fm2b.iterative_build_tree(filaments_ms, \n",
    "                                             phi0, \n",
    "                                             uniform_locs_s, \n",
    "                                             scaling='linear',\n",
    "                                             tm_mask=~phi0, \n",
    "                                             batch_size=2)\n",
    "tree_sampling_acc['uniform_center'] = tree\n",
    "ax.imshow(np.ma.masked_less(uniform_prob,1e-10), \n",
    "          vmax=prob_vmax,\n",
    "          cmap=cmap, alpha=0.25, )\n",
    "vis.plot_tree(tree, random_colors=False,  linecolor='k', lw=0.75, \n",
    "               rasterized=False, ax=ax)\n",
    "ax.text(10,10, '(a)')\n",
    "ax.set_rasterization_zorder(0)\n",
    "\n",
    "\n",
    "# -- uniform prob, ordered sampling (periphery)\n",
    "ax = axs[0,1]\n",
    "tree, speed, ttx = fm2b.iterative_build_tree(filaments_ms, \n",
    "                                             phi0, \n",
    "                                             uniform_locs_s[::-1], \n",
    "                                             scaling='linear',\n",
    "                                             tm_mask=~phi0, \n",
    "                                             batch_size=2)\n",
    "tree_sampling_acc['uniform_periphery'] = tree\n",
    "\n",
    "ax.imshow(np.ma.masked_less(uniform_prob,1e-10), \n",
    "          vmax=prob_vmax,\n",
    "          cmap=cmap, alpha=0.25)\n",
    "vis.plot_tree(tree, random_colors=False, linecolor='k', \n",
    "               rasterized=False, lw=0.75, ax=ax)\n",
    "ax.set_rasterization_zorder(0)\n",
    "ax.text(10,10, '(b)')\n",
    "\n",
    "# -- taxis (uniform prob, ordered sampling, point)\n",
    "ax = axs[0,2]\n",
    "tree, speed, ttx = fm2b.iterative_build_tree(filaments_ms, \n",
    "                                             phi0, \n",
    "                                             uniform_locs_s2, \n",
    "                                             scaling='linear',\n",
    "                                             tm_mask=~phi0, \n",
    "                                             batch_size=2)\n",
    "tree_sampling_acc['uniform_up'] = tree\n",
    "ax.imshow(np.ma.masked_less(uniform_prob,1e-10), \n",
    "          vmax=prob_vmax,\n",
    "          cmap=cmap, alpha=0.25, )\n",
    "vis.plot_tree(tree, random_colors=False,  linecolor='k', \n",
    "               rasterized=True, lw=0.75, ax=ax)\n",
    "ax.text(10,10, '(c)')\n",
    "\n",
    "\n",
    "# -- non-uniform prob (center), uniform sampling\n",
    "ax = axs[1,0]\n",
    "tree, speed, ttx = fm2b.iterative_build_tree(filaments_ms, \n",
    "                                             phi0, \n",
    "                                             central_locs, \n",
    "                                             scaling='linear',\n",
    "                                             tm_mask=~phi0, batch_size=2)\n",
    "ax.imshow(np.ma.masked_less(central_prob,1e-10), \n",
    "          vmax=prob_vmax,\n",
    "          cmap=cmap, alpha=0.25, )\n",
    "vis.plot_tree(tree, random_colors=False,  linecolor='k', \n",
    "               rasterized=False, lw=0.75,ax=ax)\n",
    "ax.text(10,10, '(d)')\n",
    "ax.set_rasterization_zorder(0)\n",
    "tree_sampling_acc['center_random'] = tree\n",
    "\n",
    "\n",
    "# -- non-uniform prob (periphery), uniform sampling\n",
    "ax = axs[1,1]\n",
    "tree, speed, ttx = fm2b.iterative_build_tree(filaments_ms, \n",
    "                                             phi0, \n",
    "                                             periph_locs, \n",
    "                                             scaling='linear',\n",
    "                                             tm_mask=~phi0, \n",
    "                                             batch_size=2)\n",
    "ax.imshow(np.ma.masked_less(periph_prob,1e-10), \n",
    "          vmax=prob_vmax,\n",
    "          cmap=cmap, alpha=0.25, )\n",
    "\n",
    "vis.plot_tree(tree, random_colors=False, linecolor='k', \n",
    "               rasterized=True, \n",
    "               lw=0.75, ax=ax)\n",
    "ax.text(10,10, '(e)')\n",
    "tree_sampling_acc['periphery_random'] = tree\n",
    "\n",
    "# -- fundus\n",
    "ax = axs[1,2]\n",
    "tree, speed, ttx = fm2b.iterative_build_tree(speed_for_asym, \n",
    "                                             phi0_asym, \n",
    "                                             periph_locs, \n",
    "                                             scaling='linear',\n",
    "                                             tm_mask=~phi0_asym, \n",
    "                                             batch_size=2)\n",
    "ax.imshow(np.ma.masked_less(periph_prob,1e-10), \n",
    "          vmax=prob_vmax,\n",
    "          cmap=cmap, alpha=0.25, )\n",
    "vis.plot_tree(tree, random_colors=False, linecolor='k', \n",
    "               rasterized=True, lw=0.75, ax=ax)\n",
    "ax.text(10,10, '(f)')\n",
    "tree_sampling_acc['fundus'] = tree\n",
    "\n",
    "\n",
    "for ax in np.ravel(axs):\n",
    "    ax.set_rasterization_zorder(10000)\n",
    "    ax.axis('off')\n",
    "fig.tight_layout()\n",
    "#vis.multi_savefig(fig, 'figures/sampling-strategies-rastr2')"
   ]
  },
  {
   "cell_type": "code",
   "execution_count": null,
   "id": "b6fc2c34",
   "metadata": {},
   "outputs": [],
   "source": [
    "seed_variants = {'uniform_center': lambda : sorted(sample_points(uniform_prob),\n",
    "                                                  key=lambda p: eu_dist(p, (255,255))),\n",
    "                 'uniform_periphery':lambda : sorted(sample_points(uniform_prob),\n",
    "                                                  key=lambda p: -eu_dist(p, (255,255))),\n",
    "                 'uniform_up': lambda : sorted(sample_points(uniform_prob),\n",
    "                                                  #key=lambda p: -eu_dist(p, (0,255))),\n",
    "                                                   key=lambda p: -eu_dist(p, (0,300))),\n",
    "                 'center_random':lambda : sample_points(central_prob),\n",
    "                 'periphery_random':lambda :  sample_points(periph_prob),\n",
    "                }"
   ]
  },
  {
   "cell_type": "code",
   "execution_count": null,
   "id": "03958c7d",
   "metadata": {},
   "outputs": [],
   "source": [
    "%%time\n",
    "\n",
    "shared_kw = dict(phi0=phi0, \n",
    "                 tm_mask=~phi0,\n",
    "                 batch_size=2,\n",
    "                 progress_bar=False)\n",
    "\n",
    "ntries = 3\n",
    "\n",
    "\n",
    "tree_sampling_acc2 = dict()\n",
    "support_trees2 = dict()\n",
    "\n",
    "for key in seed_variants:\n",
    "    tree_sampling_acc2[key] = []\n",
    "    support_trees2[key] = []\n",
    "\n",
    "for key,seedsx in seed_variants.items():\n",
    "    for i in trange(ntries):\n",
    "\n",
    "        speed_profile = spf.multiscale_Sato(field_shape)\n",
    "        tree, _, _  = fm2b.iterative_build_tree(speed_profile, seeds = seedsx(), \n",
    "                                                **shared_kw)\n",
    "        sup_tree = tree.get_simple()\n",
    "        tree.add_morphometry()\n",
    "        tree.count_occurences()\n",
    "        \n",
    "        sup_tree.add_morphometry()\n",
    "        \n",
    "        tree_sampling_acc2[key].append(tree)\n",
    "        support_trees2[key].append(sup_tree)"
   ]
  },
  {
   "cell_type": "code",
   "execution_count": null,
   "id": "891f92c4-5f0a-4a7f-8794-fde6432708ad",
   "metadata": {},
   "outputs": [],
   "source": [
    "support_trees2.keys()"
   ]
  },
  {
   "cell_type": "code",
   "execution_count": null,
   "id": "9f5f75f1",
   "metadata": {},
   "outputs": [],
   "source": []
  },
  {
   "cell_type": "code",
   "execution_count": null,
   "id": "541f2b6e",
   "metadata": {},
   "outputs": [],
   "source": [
    "tree_sampl_sup = dict()"
   ]
  },
  {
   "cell_type": "code",
   "execution_count": null,
   "id": "7f801741",
   "metadata": {},
   "outputs": [],
   "source": [
    "for key,tree in tree_sampling_acc.items():\n",
    "    print(key)\n",
    "    #fm2b.count_occurences(tree)\n",
    "    tree_sup = tree.get_simple()\n",
    "    tree_sampl_sup[key] = tree_sup\n",
    "    tree_sup.add_morphometry(with_bif_angle=True)\n",
    "    tree.add_morphometry()\n",
    "\n",
    "    for n in tree.nodes:\n",
    "        n.set_tropism_angle(np.array([1,0]))\n",
    "    \n",
    "    for key,n in tree_sup.items():\n",
    "        n.set_tropism_angle(np.array([1,0]))\n",
    "\n",
    "        if hasattr(n, 'bif_angle'):\n",
    "            tree[key].bif_angle = n.bif_angle"
   ]
  },
  {
   "cell_type": "code",
   "execution_count": null,
   "id": "417c296c-5e4b-4385-a6eb-9e03e505cf35",
   "metadata": {},
   "outputs": [],
   "source": [
    "for key,forest in tree_sampling_acc2.items():\n",
    "    print(key)\n",
    "    for tree,tree_sup in zip(forest, support_trees2[key]):\n",
    "        tree_sup.add_morphometry(with_bif_angle=True)\n",
    "        tree.add_morphometry()\n",
    "    \n",
    "        for n in tree.nodes:\n",
    "            n.set_tropism_angle(np.array([1,0]))\n",
    "        \n",
    "        for n in tree_sup.nodes:\n",
    "            n.set_tropism_angle(np.array([1,0]))"
   ]
  },
  {
   "cell_type": "code",
   "execution_count": null,
   "id": "2a8208ca",
   "metadata": {},
   "outputs": [],
   "source": [
    "keys = ['uniform_center', 'uniform_periphery', 'uniform_up',\n",
    "        'center_random', 'periphery_random']"
   ]
  },
  {
   "cell_type": "code",
   "execution_count": null,
   "id": "e0df25b1",
   "metadata": {},
   "outputs": [],
   "source": [
    "root_angles = {key:\n",
    "    [[n.root_angle for n in tree.nodes] for tree in forest]\n",
    "              for key,forest in support_trees2.items()}\n",
    "\n",
    "trop_angles = {key:\n",
    "               [[n.trop_angle for n in tree.nodes] \n",
    "                 for tree in forest]\n",
    "                for key,forest in support_trees2.items()\n",
    "              }\n",
    "\n",
    "\n",
    "bif_angles = {key:\n",
    "    [[n.bif_angle for n in tree.nodes if hasattr(n, 'bif_angle')] for tree in forest]\n",
    "              for key,forest in support_trees2.items()}\n",
    "\n",
    "\n",
    "counts = {key:\n",
    "          [[n.count  for n in tree.nodes if n.count>1] \n",
    "           for tree in forest] for key,forest in tree_sampling_acc2.items()}\n",
    "\n",
    "logcounts = {key:\n",
    "          [[np.log2(n.count)  for n in tree.nodes if n.count>1] \n",
    "           for tree in forest] for key,forest in tree_sampling_acc2.items()}\n",
    "\n",
    "branching_patterns = {key:\n",
    "                     [mt.get_branching_pattern(tree)[1]\n",
    "                      for tree in forest]\n",
    "              for key,forest in tree_sampling_acc2.items()}"
   ]
  },
  {
   "cell_type": "code",
   "execution_count": null,
   "id": "f49b258a",
   "metadata": {},
   "outputs": [],
   "source": [
    "keys = ['uniform_center', 'uniform_periphery', 'uniform_up',\n",
    "        'center_random', 'periphery_random']"
   ]
  },
  {
   "cell_type": "code",
   "execution_count": null,
   "id": "46ced19e",
   "metadata": {},
   "outputs": [],
   "source": [
    "fig,axs = plt.subplots(1,4, figsize=(9,2), \n",
    "                       gridspec_kw=dict(wspace=0.75))\n",
    "\n",
    "\n",
    "ax = axs[0]\n",
    "sns.lineplot({k:np.mean(branching_patterns[k],0) for k in keys}, \n",
    "             ls='-',dashes=False,  palette='muted',ax=ax)\n",
    "lh =ax.legend()\n",
    "ax.set(xticks=[0,50,100],xticklabels=[0,0.5,1], \n",
    "       xlabel='rel. distance to root', \n",
    "       ylabel='rel. $N_{bif}-N_{tip}$')\n",
    "lh.remove()\n",
    "\n",
    "ax = axs[1]\n",
    "#sns.kdeplot({k:np.concatenate(logcounts[k]) for k in keys}, cut=0, palette='muted',ax=ax)\n",
    "#lh =ax.legend()\n",
    "#lh.remove()\n",
    "\n",
    "for key in keys:\n",
    "    powerlaw.plot_ccdf(np.concatenate(counts[key]),ax=ax)\n",
    "\n",
    "\n",
    "#ax.set_xlabel('$\\\\log_2$ leaf index')\n",
    "ax.set(xlabel='leaf index',ylabel='exceedance')\n",
    "\n",
    "\n",
    "ax = axs[2]\n",
    "sns.kdeplot({k:np.concatenate(root_angles[k]) for k in keys}, cut=0, common_norm=False, palette='muted',ax=ax)\n",
    "#sns.kdeplot({k:np.concatenate(bif_angles[k]) for k in keys}, cut=0, palette='muted',ax=ax)\n",
    "lh =ax.legend()\n",
    "lh.remove()\n",
    "ax.set(xticks=[0,np.pi/2,np.pi], xticklabels=[0, 'π/2', 'π'])\n",
    "ax.set_xlabel('root angle')\n",
    "\n",
    "ax = axs[3]\n",
    "sns.kdeplot({k:np.concatenate(trop_angles[k]) for k in keys}, cut=0, common_norm=False, palette='muted',ax=ax)\n",
    "lh = ax.legend(['(a)','(b)','(c)','(d)','(e)'][::-1], reverse=True, fontsize=8,\n",
    "               loc=(1.05,0))\n",
    "ax.set(xticks=[0,np.pi/2,np.pi], xticklabels=[0, 'π/2', 'π'])\n",
    "ax.set_xlabel('tropism angle')\n",
    "\n",
    "for ax in axs[2:]:\n",
    "    ax.set_ylabel('prob. density')\n",
    "\n",
    "for ax in axs:\n",
    "    vis.lean_axes(ax)    "
   ]
  },
  {
   "cell_type": "markdown",
   "id": "71d177dc",
   "metadata": {},
   "source": [
    "## Figures 4-5. Dense seeds and branch diameters"
   ]
  },
  {
   "cell_type": "code",
   "execution_count": null,
   "id": "92deaead",
   "metadata": {},
   "outputs": [],
   "source": [
    "print(np.sum(bmask_filt))\n",
    "uniform_locs_dense = sample_points(uniform_prob, np.sum(bmask_filt)) "
   ]
  },
  {
   "cell_type": "code",
   "execution_count": null,
   "id": "e868edc0",
   "metadata": {},
   "outputs": [],
   "source": [
    "len(uniform_locs_dense)"
   ]
  },
  {
   "cell_type": "code",
   "execution_count": null,
   "id": "632a5659",
   "metadata": {},
   "outputs": [],
   "source": []
  },
  {
   "cell_type": "code",
   "execution_count": null,
   "id": "dabac4fc",
   "metadata": {},
   "outputs": [],
   "source": [
    "Ntotal = len(uniform_locs_dense)"
   ]
  },
  {
   "cell_type": "code",
   "execution_count": null,
   "id": "5ffd424b",
   "metadata": {},
   "outputs": [],
   "source": [
    "pts_fractions = [0.002, 0.008, 0.03, 0.13, 0.5]\n",
    "pts_fractions"
   ]
  },
  {
   "cell_type": "code",
   "execution_count": null,
   "id": "59bf2c1a",
   "metadata": {},
   "outputs": [],
   "source": [
    "tree_kw = dict(scaling='linear', tm_mask=~phi0, batch_size=1, batch_size_alpha=1.1,)\n",
    "                                            \n",
    "\n",
    "params = [\n",
    "    tree_kw,\n",
    "    tree_kw | dict(do_phi0_update=True, max_count_phi0=32),\n",
    "    tree_kw | dict(do_phi0_update=True, max_count_phi0=32),\n",
    "    tree_kw | dict(do_phi0_update=True, max_count_phi0=32)]\n",
    "\n",
    "pts_samplers = [\n",
    "    lambda n: uniform_locs_dense[:round(int(n))],\n",
    "    lambda n: local_jitter(uniform_locs_dense)[:round(int(n))],\n",
    "    lambda n: local_jitter(np.array(sorted(uniform_locs_dense[:round(int(n))],\n",
    "                                                       key=lambda x: -eu_dist(x, (255,255))))),\n",
    "    lambda n: local_jitter(np.array(sorted(uniform_locs_dense[:round(int(n))],\n",
    "                                                       key=lambda x: eu_dist(x, (255,255))))),\n",
    "]"
   ]
  },
  {
   "cell_type": "code",
   "execution_count": null,
   "id": "4d5db368",
   "metadata": {},
   "outputs": [],
   "source": [
    "sample_trees = dict()"
   ]
  },
  {
   "cell_type": "code",
   "execution_count": null,
   "id": "5eb24a31-5160-4c18-a4f7-9057646c85f6",
   "metadata": {},
   "outputs": [],
   "source": [
    "filaments_ms = spf.multiscale_Sato()"
   ]
  },
  {
   "cell_type": "code",
   "execution_count": null,
   "id": "2093cf1e",
   "metadata": {
    "scrolled": true
   },
   "outputs": [],
   "source": [
    "%%time \n",
    "\n",
    "fig1, axs = plt.subplots(len(params)+1,len(pts_fractions), figsize=(9,9),\n",
    "                        sharex='col', sharey='col',\n",
    "                        gridspec_kw=dict(hspace=0.05, wspace=0.05),\n",
    "                       )\n",
    "\n",
    "final_trees = []\n",
    "labels = ['CR', 'VR', 'VP','VC']\n",
    "colors= [\"#005f73\", \"#0a9396\", \"#ca6702\", \"#ae2012\"]\n",
    "\n",
    "\n",
    "for j, (pset, sampler) in enumerate(zip(tqdm(params,desc='params'), pts_samplers)):\n",
    "    tp_ratios = []\n",
    "    for k,frac in enumerate(pts_fractions):\n",
    "        n_pts = int(round(Ntotal*frac))\n",
    "        pts = sampler(n_pts)\n",
    "        \n",
    "        if j==0:\n",
    "            ax = axs[0,k]\n",
    "            ax.plot(pts[:,0], pts[:,1], 'k,')\n",
    "            ax.axis('square')\n",
    "            ax.axis([0,512,512,0])\n",
    "            ax.axis('off')\n",
    "            title = f'{100*frac:1.1f}%' if frac<0.01 else f'{100*frac:1.0f}%'\n",
    "            ax.set_title(title)\n",
    "\n",
    "        ax = axs[j+1,k]\n",
    "        if k == 0:\n",
    "            ax.text(10,10, labels[j], color=colors[j], va='top')\n",
    "        \n",
    "        tree, speed, ttx = fm2b.iterative_build_tree(filaments_ms,phi0,pts, **pset)\n",
    "        ttxf = skfmm.travel_time(phi0, speed=speed)\n",
    "        counts = tree.count_occurences(speed.shape)\n",
    "\n",
    "        \n",
    "\n",
    "        if frac < 0.005:\n",
    "            gamma = 1.75\n",
    "        elif gamma < 0.1:\n",
    "            gamma = 2\n",
    "        else:\n",
    "            gamma = 2.25\n",
    "        \n",
    "        tree.assign_diameters(min_diam=0.25,gamma=gamma,max_diam=9)\n",
    "        portrait = vis.make_portrait(tree, speed.shape, fill_soma=True, soma_mask=~phi0)\n",
    "        top_p = 95 if frac < 0.01 else 99.5\n",
    "        vmin,vmax=np.percentile(portrait[portrait>0],(1,top_p))\n",
    "        #print(vmin,vmax)\n",
    "        ax.imshow(portrait, vmin=0,vmax=vmax, cmap='BuPu')\n",
    "        ax.plot(255,255, 'o', color='violet', mfc='none', ms=10)\n",
    "        ax.axis('off')\n",
    "        tip_source_ratio = len(tree.tips)/len(pts)\n",
    "        tp_ratios.append(tip_source_ratio)\n",
    "        print('---', j,frac,'tip/source ratio:',tip_source_ratio)\n",
    "    #sample_trees[labels[j]] = tree\n",
    "    final_trees.append((tree, ttxf, pts, tree.tips, tp_ratios))\n",
    "plt.tight_layout()\n",
    "vis.multi_savefig(fig1, 'figures/updated-phi0-patterns')"
   ]
  },
  {
   "cell_type": "code",
   "execution_count": null,
   "id": "8aae0a7f",
   "metadata": {},
   "outputs": [],
   "source": [
    "fig1"
   ]
  },
  {
   "cell_type": "code",
   "execution_count": null,
   "id": "5a987a9d",
   "metadata": {},
   "outputs": [],
   "source": []
  },
  {
   "cell_type": "code",
   "execution_count": null,
   "id": "0bab5810",
   "metadata": {},
   "outputs": [],
   "source": []
  },
  {
   "cell_type": "code",
   "execution_count": null,
   "id": "1e0ac16f",
   "metadata": {},
   "outputs": [],
   "source": [
    "len(final_trees)"
   ]
  },
  {
   "cell_type": "code",
   "execution_count": null,
   "id": "4e08ae2d-8a65-40f8-ad29-1d58f5cecec8",
   "metadata": {},
   "outputs": [],
   "source": [
    "final_portraits = [vis.make_portrait(tree[0], filaments_ms.shape, \n",
    "                                 fill_soma=True, soma_mask=~phi0)\n",
    "                   for tree in final_trees]"
   ]
  },
  {
   "cell_type": "code",
   "execution_count": null,
   "id": "d8a2f582-1313-473f-993e-a0ce1a5d28a8",
   "metadata": {},
   "outputs": [],
   "source": [
    "fig,axs = plt.subplots(2,2, figsize=(6,6))\n",
    "for ax, p in zip(np.ravel(axs), final_portraits):\n",
    "    ax.imshow(p, cmap='BuPu')\n",
    "plt.tight_layout()"
   ]
  },
  {
   "cell_type": "code",
   "execution_count": null,
   "id": "cca51346",
   "metadata": {},
   "outputs": [],
   "source": []
  },
  {
   "cell_type": "code",
   "execution_count": null,
   "id": "ea54a77e",
   "metadata": {},
   "outputs": [],
   "source": [
    "sample_trees = {lab:coll[0] for lab,coll in zip(labels, final_trees)}\n",
    "support_trees = {lab:tree.get_simple() for lab,tree in sample_trees.items()}"
   ]
  },
  {
   "cell_type": "code",
   "execution_count": null,
   "id": "ab6d9830",
   "metadata": {},
   "outputs": [],
   "source": [
    "for lab in sample_trees:\n",
    "    sample_trees[lab].add_morphometry()\n",
    "    support_trees[lab].add_morphometry()"
   ]
  },
  {
   "cell_type": "code",
   "execution_count": null,
   "id": "3c1bdc98",
   "metadata": {},
   "outputs": [],
   "source": [
    "#mst = bmst.build_MSTree((255,255),pts,bf=0.25)"
   ]
  },
  {
   "cell_type": "code",
   "execution_count": null,
   "id": "26ded54f",
   "metadata": {},
   "outputs": [],
   "source": [
    "labels, sample_trees.keys()"
   ]
  },
  {
   "cell_type": "code",
   "execution_count": null,
   "id": "9eda0c4f",
   "metadata": {},
   "outputs": [],
   "source": [
    "plt.figure(figsize=(2,2))\n",
    "for label, color in zip(labels, colors):\n",
    "    powerlaw.plot_ccdf([n.count for n in sample_trees[label].nodes \n",
    "                        if n.count>1],color=color)"
   ]
  },
  {
   "cell_type": "code",
   "execution_count": null,
   "id": "88e458fa",
   "metadata": {},
   "outputs": [],
   "source": []
  },
  {
   "cell_type": "code",
   "execution_count": null,
   "id": "fd7060c3",
   "metadata": {},
   "outputs": [],
   "source": [
    "# plt.hist([np.log2(n.count) for n in sample_trees[labels[0]].values() if n.count>1],20);\n",
    "# plt.hist([np.log2(n.count) for n in sample_trees[labels[1]].values() if n.count>1],20,alpha=0.5);"
   ]
  },
  {
   "cell_type": "code",
   "execution_count": null,
   "id": "9ddc3350",
   "metadata": {},
   "outputs": [],
   "source": [
    "labels"
   ]
  },
  {
   "cell_type": "code",
   "execution_count": null,
   "id": "f3aa2766",
   "metadata": {},
   "outputs": [],
   "source": [
    "#%time treex,twigs = fm2b.prune_tree_twigs(sample_trees[labels[0]])\n",
    "%time btree = sample_trees[labels[2]].get_backbone(16)"
   ]
  },
  {
   "cell_type": "code",
   "execution_count": null,
   "id": "af286523",
   "metadata": {},
   "outputs": [],
   "source": [
    "%%time \n",
    "\n",
    "fig,axs = plt.subplots(2,3, figsize=(8,5),\n",
    "                       #gridspec_kw=dict(hspace=0.1,wspace=0.1),\n",
    "                       dpi=150,\n",
    "                       sharex=True, sharey=True)\n",
    "for ax, cut in zip(np.ravel(axs), tqdm((1,2,4,8,16,32))):\n",
    "    for lab,color in zip(labels,colors):\n",
    "        btree = sample_trees[lab].get_backbone(cut)\n",
    "        r,bp = mt.get_branching_pattern(btree)\n",
    "        rnorm = np.linspace(0,1,len(bp))\n",
    "        ax.plot(rnorm, bp, color=color,label=lab)\n",
    "        #ax.set_title(cut\n",
    "        ax.text(0.1, 0.31, f'min leaf index: {cut}', weight='normal')\n",
    "        #ax.text(100,0.9,f'min. {cut} leaves',fontsize=8)\n",
    "        vis.lean_axes(ax)\n",
    "lh = axs[1,-1].legend(loc=(1.01,0.1))\n",
    "axs[0,0].set_ylabel('rel. $N_{bif}-N_{tip}$')\n",
    "axs[1,0].set_xlabel('rel. distance to soma')\n"
   ]
  },
  {
   "cell_type": "code",
   "execution_count": null,
   "id": "6e33425a",
   "metadata": {},
   "outputs": [],
   "source": [
    "labels"
   ]
  },
  {
   "cell_type": "code",
   "execution_count": null,
   "id": "c218c0d3",
   "metadata": {},
   "outputs": [],
   "source": [
    "%%time \n",
    "\n",
    "root_angles = {key:[n.root_angle for n in support_trees[key].tips] \n",
    "              for key in labels}\n",
    "\n",
    "logcounts = {key:[np.log2(n.count) \n",
    "               for n in sample_trees[key].nodes if n.count>0] \n",
    "              for key in labels}\n",
    "\n",
    "counts = {key:[n.count\n",
    "               for n in sample_trees[key].nodes if n.count>1] \n",
    "              for key in labels}\n",
    "\n",
    "\n",
    "tortuosities = {key:sample_trees[key].get_tortuosity() for key in labels}\n",
    "\n",
    "jitters = {key:sample_trees[key].get_wriggliness() for key in labels}\n",
    "\n",
    "branching_patterns = {key:\n",
    "                      ndi.gaussian_filter1d(mt.get_branching_pattern(sample_trees[key])[1],3)\n",
    "              for key in labels}"
   ]
  },
  {
   "cell_type": "code",
   "execution_count": null,
   "id": "5e8ee7d5",
   "metadata": {},
   "outputs": [],
   "source": []
  },
  {
   "cell_type": "code",
   "execution_count": null,
   "id": "468cb7f2",
   "metadata": {},
   "outputs": [],
   "source": [
    "#root_angles['CR']"
   ]
  },
  {
   "cell_type": "code",
   "execution_count": null,
   "id": "43a0c4d1",
   "metadata": {},
   "outputs": [],
   "source": [
    "#ax = axs[2]\n",
    "plt.figure(figsize=(2,2))\n",
    "ax = plt.gca()\n",
    "sns.kdeplot({k:root_angles[k] for k in labels}, cut=0,  palette=colors,ax=ax)\n",
    "lh =ax.legend()\n",
    "lh.remove()\n",
    "ax.set(xticks=[0,np.pi/2,np.pi], xticklabels=[0, 'π/2', 'π'])\n",
    "ax.set_xlabel('root angle')"
   ]
  },
  {
   "cell_type": "code",
   "execution_count": null,
   "id": "4623a843",
   "metadata": {},
   "outputs": [],
   "source": [
    "labels"
   ]
  },
  {
   "cell_type": "code",
   "execution_count": null,
   "id": "acabe792",
   "metadata": {},
   "outputs": [],
   "source": [
    "#plt.boxplot(jitters[labels[3]])"
   ]
  },
  {
   "cell_type": "code",
   "execution_count": null,
   "id": "a2086455",
   "metadata": {},
   "outputs": [],
   "source": [
    "#data = {k:tortuosities[k] for k in labels}"
   ]
  },
  {
   "cell_type": "code",
   "execution_count": null,
   "id": "67caa1b5",
   "metadata": {},
   "outputs": [],
   "source": [
    "plt.figure(figsize=(2,2))\n",
    "ax = plt.gca()\n",
    "sns.boxplot([tortuosities[k] for k in labels],\n",
    "            width=0.5,\n",
    "            ax=ax,fliersize=0)\n",
    "lh =ax.legend()\n",
    "lh.remove()\n",
    "#ax.set_ylim(0,10)\n",
    "ax.set(xticklabels=labels)\n",
    "vis.lean_axes(ax)"
   ]
  },
  {
   "cell_type": "code",
   "execution_count": null,
   "id": "9697020b-aded-478e-9eec-079e7e292405",
   "metadata": {},
   "outputs": [],
   "source": []
  },
  {
   "cell_type": "code",
   "execution_count": null,
   "id": "78806c13",
   "metadata": {},
   "outputs": [],
   "source": [
    "fig2 = plt.figure(figsize=(3,3))\n",
    "\n",
    "#colors= [\"#005f73\", \"#0a9396\", \"#ca6702\", \"#ae2012\"]\n",
    "#labels = ['CR', 'VR', 'VP','VC']\n",
    "\n",
    "for lab,coll,color in zip(labels,final_trees,colors):\n",
    "    tpr = coll[-1]\n",
    "    plt.plot(pts_fractions, tpr, 'o-', label=lab,mfc='none',color=color)\n",
    "plt.legend(loc=(1.05, 0.5), ncol=1)\n",
    "ax = plt.gca()\n",
    "ax.set(xscale='log', xlabel='seed density', ylabel='tip fraction')\n",
    "vis.lean_axes(ax)\n",
    "vis.multi_savefig(fig2, 'figures/updated-phi0-tip-fractions')"
   ]
  },
  {
   "cell_type": "code",
   "execution_count": null,
   "id": "6f3aa4d1",
   "metadata": {},
   "outputs": [],
   "source": [
    "seeds = uniform_locs_dense[:int(round(Ntotal*0.03))]\n",
    "\n",
    "extra_tree, speed, ttx = fm2b.iterative_build_tree(filaments_ms, \n",
    "                                             phi0, \n",
    "                                             seeds, \n",
    "                                             **(tree_kw | dict(do_phi0_update=True, max_count_phi0=32)))\n",
    "                                             \n",
    "plt.figure()\n",
    "ax = plt.gca()\n",
    "_ = extra_tree.count_occurences(speed.shape)\n",
    "extra_tree.assign_diameters(min_diam=0.25,gamma=2.25,max_diam=9)\n",
    "portrait = vis.make_portrait(extra_tree, speed.shape, fill_soma=True, soma_mask=~phi0)\n",
    "plt.imshow(portrait)\n",
    "plt.axis('off')\n"
   ]
  },
  {
   "cell_type": "code",
   "execution_count": null,
   "id": "d9a67da3",
   "metadata": {},
   "outputs": [],
   "source": [
    "plt.figure(figsize=(3,3))\n",
    "plt.imshow(clip_outliers(portrait**0.5), vmin=0,  cmap='BuPu')\n",
    "ax = plt.gca()\n",
    "tips = np.array([t.v for t in extra_tree.tips])\n",
    "\n",
    "plt.plot(seeds[:,1], seeds[:,0], color='k', ls='', marker='.',ms=8,mfc='none')\n",
    "plt.plot(tips[:,1], tips[:,0], 'r.',ms=4)\n",
    "ax.axis('off')\n",
    "plt.tight_layout()\n",
    "plt.axis([250,350, 150,50])"
   ]
  },
  {
   "cell_type": "code",
   "execution_count": null,
   "id": "b9d87e92",
   "metadata": {},
   "outputs": [],
   "source": []
  },
  {
   "cell_type": "code",
   "execution_count": null,
   "id": "57c6a623",
   "metadata": {},
   "outputs": [],
   "source": [
    "fig3, axs = plt.subplots(3,4,\n",
    "                        figsize=(10,3*10/4),\n",
    "                        gridspec_kw=dict(wspace=0.6, \n",
    "                                         hspace=0.5,\n",
    "                                         height_ratios=(1,1,0.85),\n",
    "                                        ))\n",
    "\n",
    "min_nodecount=16\n",
    "\n",
    "for j,lab,coll,color in zip(range(100), labels,final_trees,colors):\n",
    "    tree, ttxf, pts, tips, tp_ratios = coll\n",
    "    atips = np.array([t.v for t in tips])\n",
    "    acc = []\n",
    "    for t in atips:\n",
    "        p = tree[tuple(t)].apath_to_root()\n",
    "        acc.append((len(p), ttxf[tuple(t)]))\n",
    "    acc = np.array(acc)\n",
    "    ax = axs[1,0]\n",
    "    ax.hist(ttxf[*atips.T],50, log=False, color=color, \n",
    "            density=True, \n",
    "            alpha =0.5,\n",
    "            label=f'_{lab}',\n",
    "            lw=1.5);\n",
    "\n",
    "    sns.kdeplot(ttxf[*atips.T],color=color,cut=0,ax=ax,label=lab)\n",
    "    \n",
    "\n",
    "    ax = axs[2,j]\n",
    "    ax.text(10, 140, lab, color=color)\n",
    "    ax.hexbin(acc[:,0], acc[:,1], cmap='Blues', bins='log', rasterized=True)\n",
    "    ax.set(xlabel='path length, a.u.')\n",
    "    ax.axis((0,650,-1,150))\n",
    "\n",
    "    ax = axs[0,1]\n",
    "    powerlaw.plot_ccdf(counts[lab],color=color,ax=ax)\n",
    "\n",
    "    # Branching pattern\n",
    "    ax = axs[0,0]\n",
    "    btree = tree.get_backbone(min_nodecount)\n",
    "    bp = mt.get_branching_pattern(btree)[1]\n",
    "    ax.plot(np.linspace(0,1,len(bp)),\n",
    "            ndi.gaussian_filter1d(bp,1.5),\n",
    "            color=color)\n",
    "\n",
    "#lh = axs[0,0].legend()\n",
    "\n",
    "\n",
    "#\n",
    "ax = axs[0,2]\n",
    "sns.kdeplot({k:root_angles[k] for k in labels}, \n",
    "            cut=0, \n",
    "            common_norm=False,\n",
    "            palette=colors,ax=ax)\n",
    "lh =ax.legend()\n",
    "lh.remove()\n",
    "ax.set(xticks=[0,np.pi/2,np.pi], xticklabels=[0, 'π/2', 'π'])\n",
    "\n",
    "ax = axs[0,3]\n",
    "sns.boxplot([tortuosities[k] for k in labels], width=0.5,  palette=colors,  ax=ax,fliersize=0)\n",
    "ax.set_ylim(0,10)\n",
    "lh =ax.legend()\n",
    "lh.remove()\n",
    "ax.set(xticklabels=labels)\n",
    "\n",
    "ax = axs[1,1]\n",
    "for lab,coll,color in zip(labels,final_trees,colors):\n",
    "    tpr = coll[-1]\n",
    "    ax.plot(pts_fractions, tpr, 'o-', label=lab,mfc='none',color=color)\n",
    "#ax.legend(loc=(1.05, 0.5), ncol=1,fontsize=6)\n",
    "ax.set(xscale='log', xlabel='seed density', ylabel='tip fraction')\n",
    "\n",
    "ax = axs[1,2]\n",
    "ax.imshow(clip_outliers(portrait**0.5), vmin=0,  cmap='BuPu')\n",
    "tips = np.array([t.v for t in extra_tree.tips])\n",
    "ax.plot(seeds[:,1], seeds[:,0], color='k', ls='', marker='.',ms=4,mfc='none')\n",
    "ax.plot(tips[:,1], tips[:,0], 'r.',ms=2)\n",
    "ax.axis('off')\n",
    "ax.axis([270,330, 140,60])\n",
    "\n",
    "\n",
    "axs[0,0].set_xlabel('rel. distance to root')\n",
    "axs[0,1].set_xlabel('leaf index')\n",
    "axs[0,1].set_xlim(1,axs[0,1].get_xlim()[1])\n",
    "axs[0,2].set_xlabel('root angle')\n",
    "\n",
    "axs[1,0].set_xlabel('travel time, a.u.')\n",
    "\n",
    "#axs[0,0].set_ylabel('prob. density')\n",
    "axs[0,0].set_ylabel('rel. $N_{bif}-N_{tip}$')\n",
    "axs[0,1].set_ylabel('exceedance')\n",
    "axs[0,2].set_ylabel('prob. density')\n",
    "axs[0,3].set_ylabel('tortuosity')\n",
    "\n",
    "\n",
    "axs[1,0].set_ylabel('prob. density')\n",
    "axs[1,0].set_xlim(-5,150)\n",
    "\n",
    "\n",
    "\n",
    "for ax in np.ravel(axs):\n",
    "    vis.lean_axes(ax)\n",
    "\n",
    "axs[1,-1].remove()"
   ]
  },
  {
   "cell_type": "markdown",
   "id": "938183df",
   "metadata": {},
   "source": [
    "## Multi-cellular network"
   ]
  },
  {
   "cell_type": "code",
   "execution_count": null,
   "id": "23c209be",
   "metadata": {},
   "outputs": [],
   "source": [
    "def grid2points(X,Y):\n",
    "    #return np.array(list(zip(np.ravel(X),np.ravel(Y))))\n",
    "    return np.array([np.ravel(X),np.ravel(Y)]).T\n",
    "\n",
    "def extract_edge_lengths(locs, tri):\n",
    "    return np.array([np.sum((locs[edge[0]] - locs[edge[1]])**2)**0.5 for edge in tri.edges])"
   ]
  },
  {
   "cell_type": "code",
   "execution_count": null,
   "id": "e72320a7",
   "metadata": {},
   "outputs": [],
   "source": [
    "def dart_throwing(xrange, yrange, min_distance, max_points=None, niters=int(1e6)):\n",
    "    pts = []\n",
    "    if max_points is None:\n",
    "        max_points = niters\n",
    "    for i in trange(niters):\n",
    "        new_point = np.random.uniform(*xrange), np.random.uniform(*yrange)\n",
    "        if len(pts):\n",
    "            neighbors = kdt.query_ball_point(new_point,min_distance)\n",
    "            if not len(neighbors):\n",
    "                pts.append(new_point)\n",
    "        else:\n",
    "            pts = [new_point]\n",
    "        kdt = sp.spatial.KDTree(pts)\n",
    "        if len(pts)>max_points:\n",
    "            break\n",
    "    return kdt.data"
   ]
  },
  {
   "cell_type": "code",
   "execution_count": null,
   "id": "7488e9cf",
   "metadata": {},
   "outputs": [],
   "source": [
    "#scale_w = 2\n",
    "scale_w = 1\n",
    "\n",
    "field_shape_w = (scale_w*512, scale_w*256*3)"
   ]
  },
  {
   "cell_type": "code",
   "execution_count": null,
   "id": "a80ff1c4",
   "metadata": {},
   "outputs": [],
   "source": []
  },
  {
   "cell_type": "code",
   "execution_count": null,
   "id": "c30f2a46",
   "metadata": {},
   "outputs": [],
   "source": [
    "seeds = dart_throwing((scale_w*10,scale_w*(512-10)), \n",
    "                      (scale_w*10,scale_w*(256*3-10)),\n",
    "                      min_distance=scale_w*50,\n",
    "                      niters=scale_w*5000)"
   ]
  },
  {
   "cell_type": "code",
   "execution_count": null,
   "id": "9e25800e-1f57-4afe-afb5-380e4e51c8b8",
   "metadata": {},
   "outputs": [],
   "source": [
    "field_shape_w"
   ]
  },
  {
   "cell_type": "code",
   "execution_count": null,
   "id": "473a7eb1",
   "metadata": {},
   "outputs": [],
   "source": [
    "plt.plot(seeds[:,1],seeds[:,0], '.')"
   ]
  },
  {
   "cell_type": "code",
   "execution_count": null,
   "id": "e8506221",
   "metadata": {},
   "outputs": [],
   "source": [
    "%%time \n",
    "\n",
    "filaments_ms_w = spf.multiscale_Sato(field_shape_w)\n",
    "speed_w = filaments_ms_w"
   ]
  },
  {
   "cell_type": "code",
   "execution_count": null,
   "id": "d5fb014f",
   "metadata": {},
   "outputs": [],
   "source": [
    "kdt = sp.spatial.KDTree(seeds)\n",
    "\n",
    "px_locs = (np.indices(speed_w.shape)\n",
    "           .reshape((2,-1))\n",
    "           .T)\n",
    "\n",
    "labels = kdt.query(px_locs)[1] + 1\n",
    "labels = labels.reshape(speed_w.shape)\n",
    "\n",
    "\n",
    "\n",
    "plt.imshow(labels, cmap=plt.cm.cividis)\n",
    "\n",
    "plt.plot(seeds[:,1],seeds[:,0], 'm.')\n",
    "plt.axis('off')"
   ]
  },
  {
   "cell_type": "code",
   "execution_count": null,
   "id": "3c1c4318-085f-4d7b-a696-72ba0b35f909",
   "metadata": {},
   "outputs": [],
   "source": [
    "nn_dists = kdt.query(seeds,k=2)[0][:,1]"
   ]
  },
  {
   "cell_type": "code",
   "execution_count": null,
   "id": "b1865749-42d4-499d-a9f9-f72bfb3d3fef",
   "metadata": {},
   "outputs": [],
   "source": [
    "kde = sp.stats.gaussian_kde(nn_dists)\n",
    "xfit = np.linspace(100,150)"
   ]
  },
  {
   "cell_type": "code",
   "execution_count": null,
   "id": "b2757012-ee13-4233-838f-0df588e21c94",
   "metadata": {},
   "outputs": [],
   "source": [
    "plt.hist(nn_dists, 12, density=True, color='gray',histtype='stepfilled');\n",
    "plt.plot(xfit,kde.evaluate(xfit))\n",
    "mode = xfit[np.argmax(kde.evaluate(xfit))]\n",
    "mode"
   ]
  },
  {
   "cell_type": "code",
   "execution_count": null,
   "id": "e72aeebb",
   "metadata": {},
   "outputs": [],
   "source": []
  },
  {
   "cell_type": "code",
   "execution_count": null,
   "id": "4352c08e",
   "metadata": {},
   "outputs": [],
   "source": [
    "valid_inits = kdt.query_ball_point(px_locs, 100,return_length=True)"
   ]
  },
  {
   "cell_type": "code",
   "execution_count": null,
   "id": "70ea3d69",
   "metadata": {},
   "outputs": [],
   "source": [
    "somata_mask = kdt.query_ball_point(px_locs, scale_w*3,return_length=True).reshape(speed_w.shape)>0"
   ]
  },
  {
   "cell_type": "code",
   "execution_count": null,
   "id": "6bd0078d",
   "metadata": {},
   "outputs": [],
   "source": [
    "len(valid_inits), len(px_locs)"
   ]
  },
  {
   "cell_type": "code",
   "execution_count": null,
   "id": "ef9259a9",
   "metadata": {},
   "outputs": [],
   "source": [
    "#plt.imshow(somata_mask)"
   ]
  },
  {
   "cell_type": "code",
   "execution_count": null,
   "id": "e5c266f5",
   "metadata": {},
   "outputs": [],
   "source": [
    "phi0_w = somata_mask\n",
    "plt.imshow(phi0_w, interpolation='nearest')\n",
    "\n",
    "phi0_w = ~phi0_w"
   ]
  },
  {
   "cell_type": "code",
   "execution_count": null,
   "id": "ea3600d9-608f-42af-bd9d-d94bf8ca60f5",
   "metadata": {},
   "outputs": [],
   "source": [
    "plt.rc('figure', dpi=150)"
   ]
  },
  {
   "cell_type": "code",
   "execution_count": null,
   "id": "d5dfa846",
   "metadata": {},
   "outputs": [],
   "source": [
    "ttx = skfmm.travel_time(phi0_w, speed=speed_w)\n",
    "#ttx = ttx*(ttx>0)\n",
    "#ttx[ttx.mask] = np.max(ttx)\n",
    "#ttx = np.array(ttx)\n",
    "ttx = np.ma.filled(ttx,np.max(ttx))\n",
    "\n",
    "#boundary_mask = labels == 1\n",
    "boundary_mask = ttx < np.percentile(ttx,90)\n",
    "\n",
    "plt.figure(figsize=(9,6))\n",
    "plt.imshow(ttx,cmap='rainbow_r', vmax=np.percentile(ttx[ttx<np.max(ttx)],99)); \n",
    "plt.colorbar(shrink=0.5)\n",
    "#plt.contour(ttx, levels=[np.percentile(ttx, 25)], colors='c')\n",
    "plt.contour(boundary_mask, levels=[0.5], colors='r',linewidths=0.75)\n",
    "#plt.plot(seeds[:,1],seeds[:,0], '.', color=(0.2,0.2,0.2))\n",
    "plt.axis('off')"
   ]
  },
  {
   "cell_type": "code",
   "execution_count": null,
   "id": "78522483",
   "metadata": {},
   "outputs": [],
   "source": [
    "#np.array(ttx)"
   ]
  },
  {
   "cell_type": "code",
   "execution_count": null,
   "id": "bfae4945",
   "metadata": {},
   "outputs": [],
   "source": [
    "#plt.imshow(boundary_mask)"
   ]
  },
  {
   "cell_type": "code",
   "execution_count": null,
   "id": "fd79658f-0539-49fd-835c-49ff88a78881",
   "metadata": {},
   "outputs": [],
   "source": [
    "np.percentile(ttx,0.1)"
   ]
  },
  {
   "cell_type": "code",
   "execution_count": null,
   "id": "54c49b65",
   "metadata": {},
   "outputs": [],
   "source": [
    "tm_mask_w = ndi.binary_dilation(ttx<=np.percentile(ttx,0.25*scale_w),iterations=1)\n",
    "#tm_mask_w = ttx<=np.percentile(ttx,0.1)\n",
    "plt.imshow(tm_mask_w)"
   ]
  },
  {
   "cell_type": "code",
   "execution_count": null,
   "id": "766d2fd2",
   "metadata": {},
   "outputs": [],
   "source": [
    "uniform_prob_w = ndi.gaussian_filter(np.ones(field_shape_w)*boundary_mask,5)\n",
    "uniform_prob_w /= uniform_prob_w.sum()"
   ]
  },
  {
   "cell_type": "code",
   "execution_count": null,
   "id": "c7b46e14",
   "metadata": {},
   "outputs": [],
   "source": [
    "seeds_w = sample_points(uniform_prob_w, np.sum(uniform_prob_w>0)) "
   ]
  },
  {
   "cell_type": "code",
   "execution_count": null,
   "id": "22913fe3",
   "metadata": {},
   "outputs": [],
   "source": [
    "len(seeds_w)*0.1"
   ]
  },
  {
   "cell_type": "code",
   "execution_count": null,
   "id": "dbf77f3c",
   "metadata": {},
   "outputs": [],
   "source": []
  },
  {
   "cell_type": "code",
   "execution_count": null,
   "id": "e68f9b21",
   "metadata": {},
   "outputs": [],
   "source": [
    "%%time\n",
    "\n",
    "tree_w, speedx_w, ttx_w = fm2b.iterative_build_tree(speed_w, \n",
    "                                             phi0_w, \n",
    "                                             seeds_w[:int(len(seeds_w)*0.2)], \n",
    "                                             scaling='linear',\n",
    "                                             tm_mask=tm_mask_w, \n",
    "                                             batch_size=1,\n",
    "                                             batch_size_alpha=1.1)\n",
    "plt.figure(); plt.imshow(np.log2(1+speedx_w), interpolation='nearest', cmap='PuBu')\n",
    "counts = tree_w.count_occurences(speedx_w.shape)\n",
    "plt.figure(); plt.imshow(np.log2(1+counts), interpolation='nearest', cmap='BuPu')\n",
    "\n",
    "tree_w.assign_diameters(min_diam=0.25,gamma=2.25,max_diam=12)\n",
    "portrait_w = vis.make_portrait(tree_w, speedx_w.shape, fill_soma=True, soma_mask=tm_mask_w)\n",
    "plt.imshow(portrait_w,  cmap='BuPu')\n",
    "\n",
    "plt.axis('off')"
   ]
  },
  {
   "cell_type": "code",
   "execution_count": null,
   "id": "59b2e0f3",
   "metadata": {},
   "outputs": [],
   "source": [
    "#vis.plot_tree(tree_w, random_colors=False,show_root=False,max_lw=1)"
   ]
  },
  {
   "cell_type": "code",
   "execution_count": null,
   "id": "123bfdb1",
   "metadata": {},
   "outputs": [],
   "source": [
    "tree_w.add_morphometry();"
   ]
  },
  {
   "cell_type": "code",
   "execution_count": null,
   "id": "05ea2fcb",
   "metadata": {},
   "outputs": [],
   "source": [
    "somata_labels,nlab = ndi.label(tm_mask_w)"
   ]
  },
  {
   "cell_type": "code",
   "execution_count": null,
   "id": "68f493d8",
   "metadata": {},
   "outputs": [],
   "source": [
    "colors = np.random.rand(nlab+1,3)\n",
    "colors[0] = (1,0,0)\n",
    "\n",
    "palette = dict()\n",
    "\n",
    "for root in tree_w.roots:\n",
    "    loc = tuple(root.v)\n",
    "    label = somata_labels[loc]\n",
    "    palette[loc] = colors[label]\n",
    "\n",
    "for pt in np.array(np.where(tm_mask_w)).T:\n",
    "    pt = tuple(pt)\n",
    "    palette[tuple(pt)] = colors[somata_labels[pt]]"
   ]
  },
  {
   "cell_type": "code",
   "execution_count": null,
   "id": "f2502784",
   "metadata": {},
   "outputs": [],
   "source": [
    "#len(np.array(np.where(tm_mask_w)).T), np.sum(tm_mask_w)"
   ]
  },
  {
   "cell_type": "code",
   "execution_count": null,
   "id": "49ca9be7",
   "metadata": {},
   "outputs": [],
   "source": []
  },
  {
   "cell_type": "code",
   "execution_count": null,
   "id": "33af7858",
   "metadata": {},
   "outputs": [],
   "source": [
    "fig = plt.figure()\n",
    "\n",
    "tree_w.assign_diameters(min_diam=0.25, gamma=1.8, max_diam=13)\n",
    "portrait_w = vis.make_portrait(tree_w, speedx_w.shape, fill_soma=True, soma_mask=tm_mask_w)\n",
    "plt.imshow(portrait_w,  cmap='BuPu')\n",
    "plt.axis('off')"
   ]
  },
  {
   "cell_type": "code",
   "execution_count": null,
   "id": "0bd432d6-69fb-484b-b71c-4a79e93c461a",
   "metadata": {},
   "outputs": [],
   "source": [
    "reload(vis)"
   ]
  },
  {
   "cell_type": "code",
   "execution_count": null,
   "id": "f168b92e",
   "metadata": {},
   "outputs": [],
   "source": [
    "%%time \n",
    "portrait_w2,colors = vis.make_portrait_colors(tree_w, speedx_w.shape, fill_soma=True, \n",
    "                                              palette=palette,\n",
    "                                              soma_mask=tm_mask_w)"
   ]
  },
  {
   "cell_type": "code",
   "execution_count": null,
   "id": "fed4be83",
   "metadata": {},
   "outputs": [],
   "source": [
    "plt.imshow(1-np.clip(portrait_w2**0.5,0,1)[:,:,None]*colors,interpolation='nearest')\n",
    "ax = plt.gca()\n",
    "plt.tight_layout()\n",
    "ax.axis('off')"
   ]
  },
  {
   "cell_type": "code",
   "execution_count": null,
   "id": "4742b986",
   "metadata": {},
   "outputs": [],
   "source": []
  },
  {
   "cell_type": "code",
   "execution_count": null,
   "id": "738c8cb8",
   "metadata": {},
   "outputs": [],
   "source": [
    "len(seeds)"
   ]
  },
  {
   "cell_type": "code",
   "execution_count": null,
   "id": "e80dd990",
   "metadata": {},
   "outputs": [],
   "source": [
    "centerpoint = tuple(np.array(speed_w.shape)/2)\n",
    "print(centerpoint)\n",
    "kdt = sp.spatial.KDTree(seeds)"
   ]
  },
  {
   "cell_type": "code",
   "execution_count": null,
   "id": "a59b9938-7bb1-446e-890f-0c21dee51a93",
   "metadata": {},
   "outputs": [],
   "source": [
    "nearest = kdt.query(centerpoint)[1]\n",
    "nearest_loc = tuple(seeds[nearest].astype(int))"
   ]
  },
  {
   "cell_type": "code",
   "execution_count": null,
   "id": "2cfa816d-3d7e-4762-9b30-562a9a54000b",
   "metadata": {},
   "outputs": [],
   "source": [
    "selected_soma = [sm for k in range(1,somata_labels.max()+1) if (sm:=(somata_labels==k))[nearest_loc]][0]"
   ]
  },
  {
   "cell_type": "code",
   "execution_count": null,
   "id": "f1c573cf",
   "metadata": {},
   "outputs": [],
   "source": [
    "ttx_fin = skfmm.travel_time(~selected_soma, portrait_w+0.01)"
   ]
  },
  {
   "cell_type": "code",
   "execution_count": null,
   "id": "38c93c3c",
   "metadata": {},
   "outputs": [],
   "source": [
    "fig = plt.figure()\n",
    "plt.imshow(portrait_w,  cmap='gray_r')\n",
    "\n",
    "plt.axis('off')\n",
    "tmax = 2718\n",
    "h = plt.imshow(np.ma.masked_greater_equal(ttx_fin/1000,tmax/1000),vmax=tmax/1000, cmap='Spectral', alpha=0.5); \n",
    "plt.colorbar(h, ax=plt.gca(),shrink=0.25,aspect=15,label='travel time, a.u.')\n",
    "plt.tight_layout()"
   ]
  },
  {
   "cell_type": "code",
   "execution_count": null,
   "id": "389c4a5b",
   "metadata": {},
   "outputs": [],
   "source": []
  },
  {
   "cell_type": "markdown",
   "id": "e3d9140a-2e1b-44a1-87f9-6b9a3c37bccc",
   "metadata": {},
   "source": [
    "## Test SCA"
   ]
  },
  {
   "cell_type": "code",
   "execution_count": null,
   "id": "1d518143-6247-4a9e-914c-ec1dcb27495b",
   "metadata": {},
   "outputs": [],
   "source": [
    "import sca"
   ]
  },
  {
   "cell_type": "code",
   "execution_count": null,
   "id": "23252ea9-2a44-41e8-8ddf-b736de06eacd",
   "metadata": {},
   "outputs": [],
   "source": [
    "filaments_ms = spf.multiscale_Sato()\n",
    "ttx, bmask =  spf.make_ttmap_and_mask(filaments_ms, phi0)\n",
    "vis.show_tt_map(ttx, with_boundary=True)\n",
    "plt.imshow(bmask, alpha=0.25)\n",
    "seeds_all = np.array(np.where(bmask)).T"
   ]
  },
  {
   "cell_type": "code",
   "execution_count": null,
   "id": "1b5cc5f6-d64c-4483-a8bb-0c972f912e18",
   "metadata": {},
   "outputs": [],
   "source": [
    "seeds = np.random.permutation(seeds_all)[:50]\n",
    "tri = mpl.tri.Triangulation(*seeds[:,::-1].T)\n",
    "edge_lengths = extract_edge_lengths(seeds, tri)\n",
    "\n",
    "\n",
    "sns.histplot(edge_lengths, bins=25, color='gray', kde=True)"
   ]
  },
  {
   "cell_type": "code",
   "execution_count": null,
   "id": "e91168e9-b9cc-46ce-a378-2bd3f00926c6",
   "metadata": {},
   "outputs": [],
   "source": [
    "centerpoint = (255,255)\n",
    "%time tree, missed = sca.build_SCATree(seeds,centerpoint,Dg=1,pq=100)\n",
    "len(missed)"
   ]
  },
  {
   "cell_type": "code",
   "execution_count": null,
   "id": "6e383b35-65d4-44c8-8f66-baecb635f974",
   "metadata": {},
   "outputs": [],
   "source": [
    "vis.plot_tree(tree,random_colors=False,linecolor='deepskyblue')\n",
    "plt.plot(seeds[:,1], seeds[:,0], '.', ms=4, color='silver', zorder=-1)\n",
    "#plt.plot(missed2[:,1], missed2[:,0], 'k+')\n",
    "plt.plot(missed[:,1], missed[:,0], 'r.')"
   ]
  },
  {
   "cell_type": "markdown",
   "id": "fc565c4a-7065-47f4-87c1-16fb8c3ae37f",
   "metadata": {},
   "source": [
    "## Test MST"
   ]
  },
  {
   "cell_type": "code",
   "execution_count": null,
   "id": "6cbc48bd-878c-4fd3-ab29-a8032356b10d",
   "metadata": {},
   "outputs": [],
   "source": [
    "tree = bmst.build_MSTree((255,255),seeds,bf=0.2,progress_bar=False)\n",
    "vis.plot_tree(tree)"
   ]
  },
  {
   "cell_type": "markdown",
   "id": "8a70854e-6537-4c4a-926b-a6c0b5be6a24",
   "metadata": {},
   "source": [
    "## Execution times"
   ]
  },
  {
   "cell_type": "code",
   "execution_count": null,
   "id": "722155f8-98c7-421f-8030-16a3a5db2e86",
   "metadata": {},
   "outputs": [],
   "source": [
    "import timeit"
   ]
  },
  {
   "cell_type": "code",
   "execution_count": null,
   "id": "51e61907-e4f6-47a2-802d-3365a384ff2f",
   "metadata": {},
   "outputs": [],
   "source": [
    "#num_points = np.arange(10,2000,20)\n",
    "num_points = np.arange(10,2000//2,20)\n",
    "\n",
    "ntries = 3\n",
    "time_acc_mst = {}\n",
    "for N in tqdm(num_points):\n",
    "    time_acc_mst[N] = []\n",
    "    for i in range(ntries):\n",
    "        seeds = np.random.permutation(seeds_all)[:N]\n",
    "        tick = timeit.timeit(lambda: bmst.build_MSTree((255,255),seeds,bf=0.2,progress_bar=False),number=1)\n",
    "        time_acc_mst[N].append(tick)"
   ]
  },
  {
   "cell_type": "code",
   "execution_count": null,
   "id": "aba1f2ab-f75c-4c9c-a9b3-d6b6906be2ad",
   "metadata": {},
   "outputs": [],
   "source": [
    "time_acc_sca = {}\n",
    "ntries=5\n",
    "for N in tqdm(num_points):\n",
    "    time_acc_sca[N] = []\n",
    "    for i in range(ntries):\n",
    "        seeds = np.random.permutation(seeds_all)[:N]\n",
    "        tick = timeit.timeit(lambda: sca.build_SCATree(seeds,centerpoint,Dg=0.5), number=1)\n",
    "        time_acc_sca[N].append(tick)"
   ]
  },
  {
   "cell_type": "code",
   "execution_count": null,
   "id": "6303022a-35c5-4aa5-a841-e92b76f454d8",
   "metadata": {},
   "outputs": [],
   "source": [
    "time_acc_fm2b = dict()\n",
    "ntries=5\n",
    "for N in tqdm(num_points):\n",
    "    time_acc_fm2b[N] = []\n",
    "    for i in range(ntries):\n",
    "        seeds = np.random.permutation(seeds_all)[:N]\n",
    "        tick = timeit.timeit(lambda : \n",
    "                             fm2b.iterative_build_tree(filaments_ms, phi0, seeds, \n",
    "                                                       tm_mask=~phi0, \n",
    "                                                       batch_size_alpha=1.1,\n",
    "                                                       batch_size=1,\n",
    "                                                       progress_bar=False\n",
    "                                                      ), \n",
    "                             number=1)\n",
    "        time_acc_fm2b[N].append(tick)"
   ]
  },
  {
   "cell_type": "code",
   "execution_count": null,
   "id": "a0f8f00c-108d-4691-8779-ac561fe4c1e9",
   "metadata": {},
   "outputs": [],
   "source": [
    "time_acc = dict()\n",
    "ntries=5\n",
    "for N in tqdm(num_points):\n",
    "    time_acc[N] = []\n",
    "    for i in range(ntries):\n",
    "        seeds = np.random.permutation(seeds_all)[:N]\n",
    "        tick = timeit.timeit(lambda : fm2b.build_tree(ttx, seeds, tm_mask =~phi0), number=1)\n",
    "        time_acc[N].append(tick)"
   ]
  },
  {
   "cell_type": "code",
   "execution_count": null,
   "id": "e918f68f-cc22-4234-9128-129df5d5adaa",
   "metadata": {},
   "outputs": [],
   "source": [
    "time_acc_Nseeds = {'MST':time_acc_mst,\n",
    "                   'SCA':time_acc_sca,\n",
    "                   'FM2B':time_acc_fm2b,\n",
    "                   'FM2B, constant field':time_acc,\n",
    "            }"
   ]
  },
  {
   "cell_type": "code",
   "execution_count": null,
   "id": "901299e6-6768-4440-a278-06d3f661aa3e",
   "metadata": {},
   "outputs": [],
   "source": [
    "avg_times_seeds = {key: [np.mean(acc[N]) for N in acc] for key,acc in time_acc_Nseeds.items()}"
   ]
  },
  {
   "cell_type": "code",
   "execution_count": null,
   "id": "b7ec505a-ada0-4cc0-a1e6-5ccdf2c6c0e4",
   "metadata": {},
   "outputs": [],
   "source": [
    "fig = plt.figure(figsize=(4,4))\n",
    "\n",
    "for key, coll in avg_times_seeds.items():\n",
    "    #print(coll)\n",
    "    if len(coll):\n",
    "        x = list(time_acc_Nseeds[key].keys())\n",
    "        lh = plt.plot(x, coll, '.-', mfc='none', label=key)\n",
    "\n",
    "ax = plt.gca()\n",
    "\n",
    "ax.set(xlabel='number of seeds',\n",
    "       ylabel='run time, s',\n",
    "       xscale='log',\n",
    "       yscale='log'\n",
    "      )\n",
    "plt.legend()\n",
    "vis.lean_axes(ax)"
   ]
  },
  {
   "cell_type": "code",
   "execution_count": null,
   "id": "2d4e5041-a9e2-4d80-970d-9497f0821e20",
   "metadata": {},
   "outputs": [],
   "source": []
  },
  {
   "cell_type": "markdown",
   "id": "5513e530-1155-490c-a664-e194b2007162",
   "metadata": {},
   "source": [
    "## Effect of domain size"
   ]
  },
  {
   "cell_type": "code",
   "execution_count": null,
   "id": "f9b4114b-0d1d-48a5-9d34-1226558d2703",
   "metadata": {},
   "outputs": [],
   "source": [
    "time_acc_size = {\n",
    "                 'FM2B':dict(),\n",
    "                 'FM2B, constant field':dict(),\n",
    "                }"
   ]
  },
  {
   "cell_type": "code",
   "execution_count": null,
   "id": "8e9790a8-a265-4ff7-8f6e-caf711bd44b6",
   "metadata": {},
   "outputs": [],
   "source": [
    "domain_sizes = [128, 256, 512, 1024, 2048, 3072]\n",
    "Npts = 1000\n",
    "ntries=3"
   ]
  },
  {
   "cell_type": "code",
   "execution_count": null,
   "id": "167aeab6-bcb4-4f6b-809f-c43c9b26ec5d",
   "metadata": {},
   "outputs": [],
   "source": []
  },
  {
   "cell_type": "code",
   "execution_count": null,
   "id": "48f449c3-8dc6-4b5d-8da9-cd116f4d233b",
   "metadata": {},
   "outputs": [],
   "source": [
    "acc = time_acc_size['FM2B, constant field']\n",
    "\n",
    "for N in tqdm(domain_sizes):\n",
    "    acc[N] = []\n",
    "    for i in range(ntries):\n",
    "        seeds_all = flat_indices((N,N))\n",
    "        seeds = np.random.permutation(seeds_all)[:Npts]\n",
    "\n",
    "        satos = [sato(np.random.randn(N,N),[s],black_ridges=False)  \n",
    "                 for s in (1.5, 3, 6, 12)]\n",
    "        filament_ms = np.mean([percentile_rescale(sc) for sc in satos],0)\n",
    "        \n",
    "        phi0 = np.zeros((N,N),dtype=bool)\n",
    "        centerpoint = tuple(np.round(np.array([N,N])/2).astype(int))\n",
    "        phi0[centerpoint] = True\n",
    "        filament_ms[centerpoint] = np.median(filament_ms)\n",
    "        phi0 = ~phi0\n",
    "\n",
    "        ttx = skfmm.travel_time(phi0, speed=filament_ms)\n",
    "        ttx = np.ma.filled(ttx, np.nanmax(ttx))\n",
    "        \n",
    "        tick = timeit.timeit(lambda : fm2b.build_tree(ttx, seeds, tm_mask =~phi0), number=1)\n",
    "        acc[N].append(tick)"
   ]
  },
  {
   "cell_type": "code",
   "execution_count": null,
   "id": "26e53c19-1dee-4712-a8d3-c5679be059fd",
   "metadata": {},
   "outputs": [],
   "source": [
    "acc = time_acc_size['FM2B']\n",
    "ntries=1\n",
    "for N in tqdm(domain_sizes):\n",
    "    acc[N] = []\n",
    "    for i in range(ntries):\n",
    "        seeds_all = flat_indices((N,N))\n",
    "        seeds = np.random.permutation(seeds_all)[:Npts]\n",
    "\n",
    "        satos = [sato(np.random.randn(N,N),[s],black_ridges=False)  \n",
    "                 for s in (1.5, 3, 6, 12)]\n",
    "        filament_ms = np.mean([percentile_rescale(sc) for sc in satos],0)\n",
    "        \n",
    "        phi0 = np.zeros((N,N),dtype=bool)\n",
    "        centerpoint = tuple(np.round(np.array([N,N])/2).astype(int))\n",
    "        phi0[centerpoint] = True\n",
    "        filament_ms[centerpoint] = np.median(filament_ms)\n",
    "        phi0 = ~phi0\n",
    "\n",
    "        tick = timeit.timeit(lambda : \n",
    "                             fm2b.iterative_build_tree(filament_ms, phi0, seeds, \n",
    "                                                       tm_mask=~phi0, \n",
    "                                                       batch_size_alpha=1.1,\n",
    "                                                       batch_size=1,\n",
    "                                                       progress_bar=False\n",
    "                                                      ), \n",
    "                             number=1)\n",
    "        acc[N].append(tick)"
   ]
  },
  {
   "cell_type": "code",
   "execution_count": null,
   "id": "7860bc13-5a99-4d4c-a4cb-46b19b89037b",
   "metadata": {},
   "outputs": [],
   "source": [
    "avg_times_size = {key: [np.mean(acc[N]) for N in acc] for key,acc in time_acc_size.items()}"
   ]
  },
  {
   "cell_type": "code",
   "execution_count": null,
   "id": "2a9d2842-c7f1-4584-b342-9e9ff26d893a",
   "metadata": {},
   "outputs": [],
   "source": [
    "fig = plt.figure(figsize=(4,4))\n",
    "\n",
    "\n",
    "\n",
    "for key, coll in avg_times_size.items():\n",
    "    if len(coll):\n",
    "        x = list(time_acc_size[key].keys())\n",
    "        p1 = np.polyfit(x[:4],coll[:4], 1)\n",
    "        p2 = np.polyfit(x[:4],coll[:4], 2)\n",
    "        lh = plt.plot(x, coll, 's', mfc='none', label=key)\n",
    "        xfit = np.linspace(x[0],x[-1])\n",
    "        p = p1 if 'constant' in key else p2\n",
    "        plt.plot(xfit, np.polyval(p, xfit), color=lh[0].get_color(), ls='--')\n",
    "\n",
    "ax = plt.gca()\n",
    "\n",
    "ax.set(xlabel='field side size (px)',\n",
    "       xlim=(50,10000), \n",
    "       #ylim=(-1,250),\n",
    "       ylabel='run time, s',\n",
    "       xscale='log',\n",
    "       yscale='log'\n",
    "      )\n",
    "plt.legend()\n",
    "vis.lean_axes(ax)"
   ]
  },
  {
   "cell_type": "code",
   "execution_count": null,
   "id": "13a9a322-d77d-4c38-8e42-c0ecbe5285f6",
   "metadata": {},
   "outputs": [],
   "source": []
  }
 ],
 "metadata": {
  "jupytext": {
   "formats": "md:myst,ipynb"
  },
  "kernelspec": {
   "display_name": "Python 3 (ipykernel)",
   "language": "python",
   "name": "python3"
  },
  "language_info": {
   "codemirror_mode": {
    "name": "ipython",
    "version": 3
   },
   "file_extension": ".py",
   "mimetype": "text/x-python",
   "name": "python",
   "nbconvert_exporter": "python",
   "pygments_lexer": "ipython3",
   "version": "3.11.8"
  }
 },
 "nbformat": 4,
 "nbformat_minor": 5
}
